{
  "cells": [
    {
      "cell_type": "markdown",
      "metadata": {
        "id": "view-in-github",
        "colab_type": "text"
      },
      "source": [
        "<a href=\"https://colab.research.google.com/github/Jaewon45/ESAA-practice/blob/main/project_Classification2.ipynb\" target=\"_parent\"><img src=\"https://colab.research.google.com/assets/colab-badge.svg\" alt=\"Open In Colab\"/></a>"
      ]
    },
    {
      "cell_type": "code",
      "execution_count": null,
      "metadata": {
        "id": "31CG1uY3c5dY"
      },
      "outputs": [],
      "source": [
        "import pandas as pd \n",
        "import numpy as np\n",
        "import seaborn as sns\n",
        "import matplotlib.pyplot as plt\n",
        "import warnings\n",
        "warnings.filterwarnings('ignore')"
      ]
    },
    {
      "cell_type": "code",
      "execution_count": null,
      "metadata": {
        "id": "ASaVnZWtdTey"
      },
      "outputs": [],
      "source": [
        "data_pre = pd.read_csv(\"/content/drive/MyDrive/pre_full_data.csv\")\n",
        "data_main = pd.read_csv(\"/content/drive/MyDrive/main_full_data.csv\")\n",
        "data_end = pd.read_csv(\"/content/drive/MyDrive/end_full_data.csv\")\n"
      ]
    },
    {
      "cell_type": "code",
      "execution_count": null,
      "metadata": {
        "id": "efqhNOo0jaBT"
      },
      "outputs": [],
      "source": [
        "col = ['MESURE_AGE_CO','SEXDSTN_FLAG_CD','MESURE_IEM_001_VALUE','MESURE_IEM_002_VALUE','MESURE_IEM_003_VALUE','MESURE_IEM_005_VALUE','MESURE_IEM_006_VALUE','MESURE_IEM_012_VALUE','MESURE_IEM_018_VALUE']\n",
        "data_pre_selected = data_pre[col]\n",
        "data_main_selected = data_main[col]\n",
        "data_end_selected = data_end[col]\n",
        "\n",
        "# 준비운동 분류용 데이터프레임 생성\n",
        "for i in range (1,11):  \n",
        "  globals()['data_pre'+str(i)] = pd.concat([data_pre_selected, pd.DataFrame(data_pre.iloc[:,(i-11)])], axis=1)\n",
        "\n",
        "# 본운동 분류용 데이터프레임 생성\n",
        "for i in range (1,37):  \n",
        "  globals()['data_main'+str(i)] = pd.concat([data_main_selected, pd.DataFrame(data_main.iloc[:,(i-37)])], axis=1)\n",
        "\n",
        "# 마무리운동 분류용 데이터프레임 생성\n",
        "for i in range (1,9):  \n",
        "  globals()['data_end'+str(i)] = pd.concat([data_end_selected, pd.DataFrame(data_end.iloc[:,(i-9)])], axis=1)"
      ]
    },
    {
      "cell_type": "code",
      "execution_count": null,
      "metadata": {
        "colab": {
          "base_uri": "https://localhost:8080/"
        },
        "id": "Rm6UdRxPgvx-",
        "outputId": "c0739272-25e6-4dc2-fd57-833c7eb10ef3"
      },
      "outputs": [
        {
          "name": "stdout",
          "output_type": "stream",
          "text": [
            "(113834, 27) (113834, 53) (113834, 25)\n",
            "(113834, 9) (113834, 9) (113834, 9)\n",
            "(113834, 10) (113834, 10) (113834, 10)\n"
          ]
        }
      ],
      "source": [
        "print(data_pre.shape,data_main.shape,data_end.shape)\n",
        "print(data_pre_selected.shape,data_main_selected.shape,data_end_selected.shape)\n",
        "print(data_pre1.shape,data_main36.shape,data_end8.shape)"
      ]
    },
    {
      "cell_type": "code",
      "execution_count": null,
      "metadata": {
        "id": "1N7qhu3QoDLB"
      },
      "outputs": [],
      "source": [
        "# 분류를 위한 데이터전처리용 함수 생성\n",
        "def preprocessing(df):\n",
        "  import pandas as pd\n",
        "  from sklearn.model_selection import train_test_split\n",
        "  from imblearn.over_sampling import SMOTE\n",
        "\n",
        "  # 1) 원핫 인코딩 \n",
        "  df_rev = pd.get_dummies(data=df)\n",
        "\n",
        "  # 2) X, y 데이터로 분리 \n",
        "  temp = list(range(11)); del temp[-3]\n",
        "  X = df_rev.iloc[:,temp]\n",
        "  X = X.astype(float)\n",
        "  y = df_rev.iloc[:,-3]\n",
        "\n",
        "  # 3) 학습/테스트용 데이터세트 분리\n",
        "  \n",
        "  X_train, X_test, y_train, y_test = train_test_split(X, y, test_size=0.3, random_state=42)\n",
        "\n",
        "  # 4) SMOTE를 이용한 오버샘플링\n",
        "  smote = SMOTE(random_state=42)\n",
        "  X_train_over, y_train_over = smote.fit_resample(X_train, y_train)\n",
        "\n",
        "  return (X_train, X_test, y_train, y_test, X_train_over, y_train_over)"
      ]
    },
    {
      "cell_type": "code",
      "execution_count": null,
      "metadata": {
        "id": "hZ7CtFag5zKm"
      },
      "outputs": [],
      "source": [
        "# 본운동 종류별 분류를 위한 데이터셋 생성 \n",
        "X_train_main28, X_test_main28, y_train_main28, y_test_main28, X_train_over_main28, y_train_over_main28 = preprocessing(data_main28)\n",
        "X_train_main29, X_test_main29, y_train_main29, y_test_main29, X_train_over_main29, y_train_over_main29 = preprocessing(data_main29)\n",
        "X_train_main30, X_test_main30, y_train_main30, y_test_main30, X_train_over_main30, y_train_over_main30 = preprocessing(data_main30)\n",
        "X_train_main31, X_test_main31, y_train_main31, y_test_main31, X_train_over_main31, y_train_over_main31 = preprocessing(data_main31)\n",
        "X_train_main32, X_test_main32, y_train_main32, y_test_main32, X_train_over_main32, y_train_over_main32 = preprocessing(data_main32)\n",
        "X_train_main33, X_test_main33, y_train_main33, y_test_main33, X_train_over_main33, y_train_over_main33 = preprocessing(data_main33)\n",
        "X_train_main34, X_test_main34, y_train_main34, y_test_main34, X_train_over_main34, y_train_over_main34 = preprocessing(data_main34)\n",
        "X_train_main35, X_test_main35, y_train_main35, y_test_main35, X_train_over_main35, y_train_over_main35 = preprocessing(data_main35)\n",
        "X_train_main36, X_test_main36, y_train_main36, y_test_main36, X_train_over_main36, y_train_over_main36 = preprocessing(data_main36)\n",
        "\n",
        "# 마무리운동 종류별 분류를 위한 데이터셋 생성\n",
        "X_train_end5, X_test_end5, y_train_end5, y_test_end5, X_train_over_end5, y_train_over_end5 = preprocessing(data_end5)\n",
        "X_train_end6, X_test_end6, y_train_end6, y_test_end6, X_train_over_end6, y_train_over_end6 = preprocessing(data_end6)\n",
        "X_train_end7, X_test_end7, y_train_end7, y_test_end7, X_train_over_end7, y_train_over_end7 = preprocessing(data_end7)\n",
        "X_train_end8, X_test_end8, y_train_end8, y_test_end8, X_train_over_end8, y_train_over_end8 = preprocessing(data_end8)"
      ]
    },
    {
      "cell_type": "code",
      "execution_count": null,
      "metadata": {
        "colab": {
          "base_uri": "https://localhost:8080/"
        },
        "id": "IPkAu7FK5846",
        "outputId": "b7166c23-ee95-4ae2-a008-20dfe5fde86c"
      },
      "outputs": [
        {
          "output_type": "stream",
          "name": "stdout",
          "text": [
            "(79683, 10) (34151, 10) (34151,) (150182, 10) (150182,)\n",
            "(79683, 10) (34151, 10) (34151,) (149692, 10) (149692,)\n",
            "(79683, 10) (34151, 10) (34151,) (152002, 10) (152002,)\n",
            "(79683, 10) (34151, 10) (34151,) (150410, 10) (150410,)\n",
            "(79683, 10) (34151, 10) (34151,) (146440, 10) (146440,)\n",
            "(79683, 10) (34151, 10) (34151,) (151468, 10) (151468,)\n",
            "(79683, 10) (34151, 10) (34151,) (142498, 10) (142498,)\n",
            "(79683, 10) (34151, 10) (34151,) (152506, 10) (152506,)\n",
            "(79683, 10) (34151, 10) (34151,) (153340, 10) (153340,)\n"
          ]
        }
      ],
      "source": [
        "print(X_train_main28.shape, X_test_main28.shape, y_test_main28.shape, X_train_over_main28.shape, y_train_over_main28.shape)\n",
        "print(X_train_main29.shape, X_test_main29.shape, y_test_main29.shape, X_train_over_main29.shape, y_train_over_main29.shape)\n",
        "print(X_train_main30.shape, X_test_main30.shape, y_test_main30.shape, X_train_over_main30.shape, y_train_over_main30.shape)\n",
        "print(X_train_main31.shape, X_test_main31.shape, y_test_main31.shape, X_train_over_main31.shape, y_train_over_main31.shape)\n",
        "print(X_train_main32.shape, X_test_main32.shape, y_test_main32.shape, X_train_over_main32.shape, y_train_over_main32.shape)\n",
        "print(X_train_main33.shape, X_test_main33.shape, y_test_main33.shape, X_train_over_main33.shape, y_train_over_main33.shape)\n",
        "print(X_train_main34.shape, X_test_main34.shape, y_test_main34.shape, X_train_over_main34.shape, y_train_over_main34.shape)\n",
        "print(X_train_main35.shape, X_test_main35.shape, y_test_main35.shape, X_train_over_main35.shape, y_train_over_main35.shape)\n",
        "print(X_train_main36.shape, X_test_main36.shape, y_test_main36.shape, X_train_over_main36.shape, y_train_over_main36.shape)"
      ]
    },
    {
      "cell_type": "code",
      "source": [
        "print(X_train_end5.shape, X_test_end5.shape, y_test_end5.shape, X_train_over_end5.shape, y_train_over_end5.shape)\n",
        "print(X_train_end6.shape, X_test_end6.shape, y_test_end6.shape, X_train_over_end6.shape, y_train_over_end6.shape)\n",
        "print(X_train_end7.shape, X_test_end7.shape, y_test_end7.shape, X_train_over_end7.shape, y_train_over_end7.shape)\n",
        "print(X_train_end8.shape, X_test_end8.shape, y_test_end8.shape, X_train_over_end8.shape, y_train_over_end8.shape)"
      ],
      "metadata": {
        "colab": {
          "base_uri": "https://localhost:8080/"
        },
        "id": "aOFuSE_rAidZ",
        "outputId": "aa3b5bdb-6a8d-4ff6-e31b-a08e3720789b"
      },
      "execution_count": null,
      "outputs": [
        {
          "output_type": "stream",
          "name": "stdout",
          "text": [
            "(79683, 10) (34151, 10) (34151,) (136374, 10) (136374,)\n",
            "(79683, 10) (34151, 10) (34151,) (143254, 10) (143254,)\n",
            "(79683, 10) (34151, 10) (34151,) (142646, 10) (142646,)\n",
            "(79683, 10) (34151, 10) (34151,) (142498, 10) (142498,)\n"
          ]
        }
      ]
    },
    {
      "cell_type": "code",
      "source": [
        "## 모델 정의\n",
        "# 1) RF\n",
        "from sklearn.tree import DecisionTreeClassifier\n",
        "from sklearn.ensemble import RandomForestClassifier\n",
        "myrf = RandomForestClassifier(random_state=42)\n",
        "\n",
        "# 2) XGB\n",
        "from xgboost import XGBClassifier\n",
        "myxgb = XGBClassifier(random_state=42)\n",
        "\n",
        "# 3) GBM\n",
        "from lightgbm import LGBMClassifier\n",
        "mylgbm = LGBMClassifier(random_state=42)\n",
        "\n",
        "\n",
        "## 모델별 하이퍼파라미터튜닝용 파라미터 및 GridsearchCV 정의\n",
        "from sklearn.model_selection import GridSearchCV\n",
        "\n",
        "params_rf = { 'max_depth' : [3,4,5], 'n_estimators' : [100,150,200]}\n",
        "params_xgb = { 'max_depth' : [3,4,5], 'n_estimators' : [100,150,200], 'learning_rate' : [0.1, 0.05]}\n",
        "params_lgbm = { 'max_depth' : [3,4,5], 'n_estimators' : [100,150,200], 'learning_rate' : [0.1, 0.05]}\n",
        "\n",
        "gridCV_rf = GridSearchCV(myrf, param_grid=params_rf, n_jobs=-1, cv=3, verbose=1)\n",
        "gridCV_xgb = GridSearchCV(myxgb, param_grid=params_xgb, n_jobs=-1, cv=3, verbose=1)\n",
        "gridCV_lgbm = GridSearchCV(mylgbm, param_grid=params_lgbm, n_jobs=-1, cv=3, verbose=1)"
      ],
      "metadata": {
        "id": "OZ_7l-ztCYrR"
      },
      "execution_count": 43,
      "outputs": []
    },
    {
      "cell_type": "code",
      "source": [
        "def get_clf_eval(X_train, y_train, X_test, y_test, model):\n",
        "    model.fit(X_train, y_train)\n",
        "    pred = model.predict(X_test)\n",
        "    from sklearn.metrics import accuracy_score, precision_score, recall_score, confusion_matrix\n",
        "    confusion = confusion_matrix(y_test, pred)\n",
        "    accuracy = accuracy_score(y_test, pred)\n",
        "    precision = precision_score(y_test, pred)\n",
        "    recall = recall_score(y_test, pred)\n",
        "    print(model,'=================')\n",
        "    print('오차행렬')\n",
        "    print(confusion)\n",
        "    print('정확도 : {0:.4f}, 정밀도 : {1:.4f}, 재현율:{2:.4f}'.format(accuracy, precision, recall))"
      ],
      "metadata": {
        "id": "MJp6hIqlOpRt"
      },
      "execution_count": 51,
      "outputs": []
    },
    {
      "cell_type": "markdown",
      "source": [
        "#### 본운동28"
      ],
      "metadata": {
        "id": "52qC5HAkO69M"
      }
    },
    {
      "cell_type": "code",
      "source": [
        "gridCV_rf.fit(X_train_over_main28, y_train_over_main28)\n",
        "print(gridCV_rf.best_score_, gridCV_rf.best_params_)"
      ],
      "metadata": {
        "colab": {
          "base_uri": "https://localhost:8080/"
        },
        "id": "nZ0IAn6ne9Jk",
        "outputId": "74e221b9-fd02-4443-c680-cc723391e8db"
      },
      "execution_count": 45,
      "outputs": [
        {
          "output_type": "stream",
          "name": "stdout",
          "text": [
            "Fitting 3 folds for each of 9 candidates, totalling 27 fits\n",
            "0.6737625125978614 {'max_depth': 5, 'n_estimators': 200}\n"
          ]
        }
      ]
    },
    {
      "cell_type": "code",
      "source": [
        "gridCV_xgb.fit(X_train_over_main28, y_train_over_main28)\n",
        "print(gridCV_xgb.best_score_, gridCV_xgb.best_params_)"
      ],
      "metadata": {
        "colab": {
          "base_uri": "https://localhost:8080/"
        },
        "id": "6UhO3pWOlfcM",
        "outputId": "a3810aaa-bf2f-4cce-a8a9-9c33307024e5"
      },
      "execution_count": 46,
      "outputs": [
        {
          "output_type": "stream",
          "name": "stdout",
          "text": [
            "Fitting 3 folds for each of 18 candidates, totalling 54 fits\n",
            "0.9500741077507495 {'learning_rate': 0.1, 'max_depth': 5, 'n_estimators': 200}\n"
          ]
        }
      ]
    },
    {
      "cell_type": "code",
      "source": [
        "gridCV_lgbm.fit(X_train_over_main28, y_train_over_main28)\n",
        "print(gridCV_lgbm.best_score_, gridCV_lgbm.best_params_)"
      ],
      "metadata": {
        "colab": {
          "base_uri": "https://localhost:8080/"
        },
        "id": "WaJgmVUmA3P4",
        "outputId": "2abcc2f7-94d0-4adc-a2bb-5657f67772b7"
      },
      "execution_count": 47,
      "outputs": [
        {
          "output_type": "stream",
          "name": "stdout",
          "text": [
            "Fitting 3 folds for each of 18 candidates, totalling 54 fits\n",
            "0.9460057208032809 {'learning_rate': 0.1, 'max_depth': 5, 'n_estimators': 200}\n"
          ]
        }
      ]
    },
    {
      "cell_type": "code",
      "source": [
        "rf_main28 = RandomForestClassifier(max_depth=5, n_estimators=200, random_state=42)\n",
        "xgb_main28 = XGBClassifier(learning_rate=0.1, max_depth=5, n_estimators=200, random_state=42)\n",
        "lgbm_main28 = LGBMClassifier(learning_rate=0.1, max_depth=5, n_estimators=200, random_state=42)\n",
        "\n",
        "get_clf_eval(X_train_over_main28, y_train_over_main28, X_test_main28, y_test_main28, rf_main28)\n",
        "get_clf_eval(X_train_over_main28, y_train_over_main28, X_test_main28, y_test_main28, xgb_main28)\n",
        "get_clf_eval(X_train_over_main28, y_train_over_main28, X_test_main28, y_test_main28, lgbm_main28)"
      ],
      "metadata": {
        "colab": {
          "base_uri": "https://localhost:8080/"
        },
        "id": "e5pH4PO4OtLD",
        "outputId": "c98b69e5-cdf8-40e6-fc01-d0c77b82fb9e"
      },
      "execution_count": 53,
      "outputs": [
        {
          "output_type": "stream",
          "name": "stdout",
          "text": [
            "RandomForestClassifier(max_depth=5, n_estimators=200, random_state=42) =================\n",
            "오차행렬\n",
            "[[14351 17742]\n",
            " [  429  1629]]\n",
            "정확도 : 0.4679, 정밀도 : 0.0841, 재현율:0.7915\n",
            "XGBClassifier(max_depth=5, n_estimators=200, random_state=42) =================\n",
            "오차행렬\n",
            "[[32049    44]\n",
            " [ 2050     8]]\n",
            "정확도 : 0.9387, 정밀도 : 0.1538, 재현율:0.0039\n",
            "LGBMClassifier(max_depth=5, n_estimators=200, random_state=42) =================\n",
            "오차행렬\n",
            "[[31865   228]\n",
            " [ 2031    27]]\n",
            "정확도 : 0.9339, 정밀도 : 0.1059, 재현율:0.0131\n"
          ]
        }
      ]
    },
    {
      "cell_type": "markdown",
      "source": [
        "#### 본운동 29"
      ],
      "metadata": {
        "id": "VDgs8i0MO9nu"
      }
    },
    {
      "cell_type": "code",
      "source": [
        "gridCV_rf.fit(X_train_over_main29, y_train_over_main29)\n",
        "print(gridCV_rf.best_score_, gridCV_rf.best_params_)\n",
        "gridCV_xgb.fit(X_train_over_main29, y_train_over_main29)\n",
        "print(gridCV_xgb.best_score_, gridCV_xgb.best_params_)\n",
        "gridCV_lgbm.fit(X_train_over_main29, y_train_over_main29)\n",
        "print(gridCV_lgbm.best_score_, gridCV_lgbm.best_params_)"
      ],
      "metadata": {
        "colab": {
          "base_uri": "https://localhost:8080/"
        },
        "id": "Y1cu_n5CBqHZ",
        "outputId": "41d7361d-ee04-4867-d638-1e4126935ec3"
      },
      "execution_count": 48,
      "outputs": [
        {
          "output_type": "stream",
          "name": "stdout",
          "text": [
            "Fitting 3 folds for each of 9 candidates, totalling 27 fits\n",
            "0.7060631604647466 {'max_depth': 5, 'n_estimators': 100}\n",
            "Fitting 3 folds for each of 18 candidates, totalling 54 fits\n",
            "0.9418877300374904 {'learning_rate': 0.1, 'max_depth': 5, 'n_estimators': 200}\n",
            "Fitting 3 folds for each of 18 candidates, totalling 54 fits\n",
            "0.9362695203209505 {'learning_rate': 0.1, 'max_depth': 5, 'n_estimators': 200}\n"
          ]
        }
      ]
    },
    {
      "cell_type": "code",
      "source": [
        "rf_main29 = RandomForestClassifier(max_depth=5, n_estimators=100, random_state=42)\n",
        "xgb_main29 = XGBClassifier(learning_rate=0.1, max_depth=5, n_estimators=200, random_state=42)\n",
        "lgbm_main29 = LGBMClassifier(learning_rate=0.1, max_depth=5, n_estimators=200, random_state=42)\n",
        "\n",
        "get_clf_eval(X_train_over_main29, y_train_over_main29, X_test_main29, y_test_main29, rf_main29)\n",
        "get_clf_eval(X_train_over_main29, y_train_over_main29, X_test_main29, y_test_main29, xgb_main29)\n",
        "get_clf_eval(X_train_over_main29, y_train_over_main29, X_test_main29, y_test_main29, lgbm_main29)"
      ],
      "metadata": {
        "colab": {
          "base_uri": "https://localhost:8080/"
        },
        "id": "8mNSRCTKPAjA",
        "outputId": "61a56938-41d6-4b25-e350-eaf06aae0d7a"
      },
      "execution_count": 54,
      "outputs": [
        {
          "output_type": "stream",
          "name": "stdout",
          "text": [
            "RandomForestClassifier(max_depth=5, random_state=42) =================\n",
            "오차행렬\n",
            "[[15471 16567]\n",
            " [  413  1700]]\n",
            "정확도 : 0.5028, 정밀도 : 0.0931, 재현율:0.8045\n",
            "XGBClassifier(max_depth=5, n_estimators=200, random_state=42) =================\n",
            "오차행렬\n",
            "[[31349   689]\n",
            " [ 2015    98]]\n",
            "정확도 : 0.9208, 정밀도 : 0.1245, 재현율:0.0464\n",
            "LGBMClassifier(max_depth=5, n_estimators=200, random_state=42) =================\n",
            "오차행렬\n",
            "[[31265   773]\n",
            " [ 1990   123]]\n",
            "정확도 : 0.9191, 정밀도 : 0.1373, 재현율:0.0582\n"
          ]
        }
      ]
    },
    {
      "cell_type": "markdown",
      "source": [
        "#### 본운동 30"
      ],
      "metadata": {
        "id": "hJ6shWCNPLoZ"
      }
    },
    {
      "cell_type": "code",
      "source": [
        "gridCV_rf.fit(X_train_over_main30, y_train_over_main30)\n",
        "print(gridCV_rf.best_score_, gridCV_rf.best_params_)\n",
        "gridCV_xgb.fit(X_train_over_main30, y_train_over_main30)\n",
        "print(gridCV_xgb.best_score_, gridCV_xgb.best_params_)\n",
        "gridCV_lgbm.fit(X_train_over_main30, y_train_over_main30)\n",
        "print(gridCV_lgbm.best_score_, gridCV_lgbm.best_params_)"
      ],
      "metadata": {
        "colab": {
          "base_uri": "https://localhost:8080/"
        },
        "id": "L0Vue-rbCEBD",
        "outputId": "e4ef105a-c47b-4838-b256-79664be3e467"
      },
      "execution_count": 49,
      "outputs": [
        {
          "output_type": "stream",
          "name": "stdout",
          "text": [
            "Fitting 3 folds for each of 9 candidates, totalling 27 fits\n",
            "0.7374245043034553 {'max_depth': 5, 'n_estimators': 150}\n",
            "Fitting 3 folds for each of 18 candidates, totalling 54 fits\n",
            "0.9516390786657573 {'learning_rate': 0.1, 'max_depth': 5, 'n_estimators': 200}\n",
            "Fitting 3 folds for each of 18 candidates, totalling 54 fits\n",
            "0.9461457102439246 {'learning_rate': 0.1, 'max_depth': 5, 'n_estimators': 200}\n"
          ]
        }
      ]
    },
    {
      "cell_type": "code",
      "source": [
        "rf_main30 = RandomForestClassifier(max_depth=5, n_estimators=150, random_state=42)\n",
        "xgb_main30 = XGBClassifier(learning_rate=0.1, max_depth=5, n_estimators=200, random_state=42)\n",
        "lgbm_main30 = LGBMClassifier(learning_rate=0.1, max_depth=5, n_estimators=200, random_state=42)\n",
        "\n",
        "get_clf_eval(X_train_over_main30, y_train_over_main30, X_test_main30, y_test_main30, rf_main30)\n",
        "get_clf_eval(X_train_over_main30, y_train_over_main30, X_test_main30, y_test_main30, xgb_main30)\n",
        "get_clf_eval(X_train_over_main30, y_train_over_main30, X_test_main30, y_test_main30, lgbm_main30)"
      ],
      "metadata": {
        "colab": {
          "base_uri": "https://localhost:8080/"
        },
        "id": "ZL2g5nPMPN4b",
        "outputId": "1cda717c-a49a-4f1a-ab7f-9ccfc952ec7b"
      },
      "execution_count": 58,
      "outputs": [
        {
          "output_type": "stream",
          "name": "stdout",
          "text": [
            "RandomForestClassifier(max_depth=5, n_estimators=150, random_state=42) =================\n",
            "오차행렬\n",
            "[[20882 11612]\n",
            " [  400  1257]]\n",
            "정확도 : 0.6483, 정밀도 : 0.0977, 재현율:0.7586\n",
            "XGBClassifier(max_depth=5, n_estimators=200, random_state=42) =================\n",
            "오차행렬\n",
            "[[31701   793]\n",
            " [ 1529   128]]\n",
            "정확도 : 0.9320, 정밀도 : 0.1390, 재현율:0.0772\n",
            "LGBMClassifier(max_depth=5, n_estimators=200, random_state=42) =================\n",
            "오차행렬\n",
            "[[31683   811]\n",
            " [ 1533   124]]\n",
            "정확도 : 0.9314, 정밀도 : 0.1326, 재현율:0.0748\n"
          ]
        }
      ]
    },
    {
      "cell_type": "markdown",
      "source": [
        "#### 본운동 31"
      ],
      "metadata": {
        "id": "TRF29NJJPnVr"
      }
    },
    {
      "cell_type": "code",
      "source": [
        "gridCV_rf.fit(X_train_over_main31, y_train_over_main31)\n",
        "print(gridCV_rf.best_score_, gridCV_rf.best_params_)\n",
        "gridCV_xgb.fit(X_train_over_main31, y_train_over_main31)\n",
        "print(gridCV_xgb.best_score_, gridCV_xgb.best_params_)\n",
        "gridCV_lgbm.fit(X_train_over_main31, y_train_over_main31)\n",
        "print(gridCV_lgbm.best_score_, gridCV_lgbm.best_params_)"
      ],
      "metadata": {
        "colab": {
          "base_uri": "https://localhost:8080/"
        },
        "id": "7BBZOPXPH0FR",
        "outputId": "f3bdab87-03fc-4eb2-bd43-1c98e3891151"
      },
      "execution_count": 50,
      "outputs": [
        {
          "output_type": "stream",
          "name": "stdout",
          "text": [
            "Fitting 3 folds for each of 9 candidates, totalling 27 fits\n",
            "0.71128918714215 {'max_depth': 5, 'n_estimators': 200}\n",
            "Fitting 3 folds for each of 18 candidates, totalling 54 fits\n",
            "0.9451700453888625 {'learning_rate': 0.1, 'max_depth': 5, 'n_estimators': 200}\n",
            "Fitting 3 folds for each of 18 candidates, totalling 54 fits\n",
            "0.9408419095340275 {'learning_rate': 0.1, 'max_depth': 5, 'n_estimators': 200}\n"
          ]
        }
      ]
    },
    {
      "cell_type": "code",
      "source": [
        "rf_main31 = RandomForestClassifier(max_depth=5, n_estimators=200, random_state=42)\n",
        "xgb_main31 = XGBClassifier(learning_rate=0.1, max_depth=5, n_estimators=200, random_state=42)\n",
        "lgbm_main31 = LGBMClassifier(learning_rate=0.1, max_depth=5, n_estimators=200, random_state=42)\n",
        "\n",
        "get_clf_eval(X_train_over_main31, y_train_over_main31, X_test_main31, y_test_main31, rf_main31)\n",
        "get_clf_eval(X_train_over_main31, y_train_over_main31, X_test_main31, y_test_main31, xgb_main31)\n",
        "get_clf_eval(X_train_over_main31, y_train_over_main31, X_test_main31, y_test_main31, lgbm_main31)"
      ],
      "metadata": {
        "colab": {
          "base_uri": "https://localhost:8080/"
        },
        "id": "_y6JUUvXPW0T",
        "outputId": "6920a02a-0351-49c2-a4d6-b1442bffd187"
      },
      "execution_count": 61,
      "outputs": [
        {
          "output_type": "stream",
          "name": "stdout",
          "text": [
            "RandomForestClassifier(max_depth=5, n_estimators=200, random_state=42) =================\n",
            "오차행렬\n",
            "[[16163 15983]\n",
            " [  363  1642]]\n",
            "정확도 : 0.5214, 정밀도 : 0.0932, 재현율:0.8190\n",
            "XGBClassifier(max_depth=5, n_estimators=200, random_state=42) =================\n",
            "오차행렬\n",
            "[[31188   958]\n",
            " [ 1867   138]]\n",
            "정확도 : 0.9173, 정밀도 : 0.1259, 재현율:0.0688\n",
            "LGBMClassifier(max_depth=5, n_estimators=200, random_state=42) =================\n",
            "오차행렬\n",
            "[[31244   902]\n",
            " [ 1883   122]]\n",
            "정확도 : 0.9185, 정밀도 : 0.1191, 재현율:0.0608\n"
          ]
        }
      ]
    },
    {
      "cell_type": "markdown",
      "source": [
        "#### 본운동 32"
      ],
      "metadata": {
        "id": "ULb11Wtiokzb"
      }
    },
    {
      "cell_type": "code",
      "source": [
        "gridCV_rf.fit(X_train_over_main32, y_train_over_main32)\n",
        "print(gridCV_rf.best_score_, gridCV_rf.best_params_)\n",
        "gridCV_xgb.fit(X_train_over_main32, y_train_over_main32)\n",
        "print(gridCV_xgb.best_score_, gridCV_xgb.best_params_)\n",
        "gridCV_lgbm.fit(X_train_over_main32, y_train_over_main32)\n",
        "print(gridCV_lgbm.best_score_, gridCV_lgbm.best_params_)"
      ],
      "metadata": {
        "colab": {
          "base_uri": "https://localhost:8080/"
        },
        "id": "jDZoW7vlonej",
        "outputId": "19d81484-f139-4f00-bf72-145d8defa967"
      },
      "execution_count": 60,
      "outputs": [
        {
          "output_type": "stream",
          "name": "stdout",
          "text": [
            "Fitting 3 folds for each of 9 candidates, totalling 27 fits\n",
            "0.7342939407790241 {'max_depth': 5, 'n_estimators': 100}\n",
            "Fitting 3 folds for each of 18 candidates, totalling 54 fits\n",
            "0.9142997758552699 {'learning_rate': 0.1, 'max_depth': 5, 'n_estimators': 200}\n",
            "Fitting 3 folds for each of 18 candidates, totalling 54 fits\n",
            "0.9134598479860649 {'learning_rate': 0.1, 'max_depth': 5, 'n_estimators': 200}\n"
          ]
        }
      ]
    },
    {
      "cell_type": "code",
      "source": [
        "rf_main32 = RandomForestClassifier(max_depth=5, n_estimators=100, random_state=42)\n",
        "xgb_main32 = XGBClassifier(learning_rate=0.1, max_depth=5, n_estimators=200, random_state=42)\n",
        "lgbm_main32 = LGBMClassifier(learning_rate=0.1, max_depth=5, n_estimators=200, random_state=42)\n",
        "\n",
        "get_clf_eval(X_train_over_main32, y_train_over_main32, X_test_main32, y_test_main32, rf_main32)\n",
        "get_clf_eval(X_train_over_main32, y_train_over_main32, X_test_main32, y_test_main32, xgb_main32)\n",
        "get_clf_eval(X_train_over_main32, y_train_over_main32, X_test_main32, y_test_main32, lgbm_main32)"
      ],
      "metadata": {
        "colab": {
          "base_uri": "https://localhost:8080/"
        },
        "id": "wPVoE3RsotSd",
        "outputId": "2208646c-14d7-4feb-d876-05d0a91f30c3"
      },
      "execution_count": 62,
      "outputs": [
        {
          "output_type": "stream",
          "name": "stdout",
          "text": [
            "RandomForestClassifier(max_depth=5, random_state=42) =================\n",
            "오차행렬\n",
            "[[20255 11098]\n",
            " [  676  2122]]\n",
            "정확도 : 0.6552, 정밀도 : 0.1605, 재현율:0.7584\n",
            "XGBClassifier(max_depth=5, n_estimators=200, random_state=42) =================\n",
            "오차행렬\n",
            "[[29227  2126]\n",
            " [ 2073   725]]\n",
            "정확도 : 0.8770, 정밀도 : 0.2543, 재현율:0.2591\n",
            "LGBMClassifier(max_depth=5, n_estimators=200, random_state=42) =================\n",
            "오차행렬\n",
            "[[29370  1983]\n",
            " [ 2128   670]]\n",
            "정확도 : 0.8796, 정밀도 : 0.2525, 재현율:0.2395\n"
          ]
        }
      ]
    },
    {
      "cell_type": "markdown",
      "source": [
        "#### 본운동 33"
      ],
      "metadata": {
        "id": "HtA2GP18penY"
      }
    },
    {
      "cell_type": "code",
      "source": [
        "gridCV_rf.fit(X_train_over_main33, y_train_over_main33)\n",
        "print(gridCV_rf.best_score_, gridCV_rf.best_params_)\n",
        "gridCV_xgb.fit(X_train_over_main33, y_train_over_main33)\n",
        "print(gridCV_xgb.best_score_, gridCV_xgb.best_params_)\n",
        "gridCV_lgbm.fit(X_train_over_main33, y_train_over_main33)\n",
        "print(gridCV_lgbm.best_score_, gridCV_lgbm.best_params_)"
      ],
      "metadata": {
        "colab": {
          "base_uri": "https://localhost:8080/"
        },
        "id": "hu3CK1UNpflL",
        "outputId": "fa231537-34c5-413c-dd53-22c71bb231fc"
      },
      "execution_count": 63,
      "outputs": [
        {
          "output_type": "stream",
          "name": "stdout",
          "text": [
            "Fitting 3 folds for each of 9 candidates, totalling 27 fits\n",
            "0.7165144133786109 {'max_depth': 5, 'n_estimators': 200}\n",
            "Fitting 3 folds for each of 18 candidates, totalling 54 fits\n",
            "0.9395848889666025 {'learning_rate': 0.1, 'max_depth': 5, 'n_estimators': 200}\n",
            "Fitting 3 folds for each of 18 candidates, totalling 54 fits\n",
            "0.9386209852523812 {'learning_rate': 0.1, 'max_depth': 5, 'n_estimators': 200}\n"
          ]
        }
      ]
    },
    {
      "cell_type": "code",
      "source": [
        "rf_main33 = RandomForestClassifier(max_depth=5, n_estimators=200, random_state=42)\n",
        "xgb_main33 = XGBClassifier(learning_rate=0.1, max_depth=5, n_estimators=200, random_state=42)\n",
        "lgbm_main33 = LGBMClassifier(learning_rate=0.1, max_depth=5, n_estimators=200, random_state=42)\n",
        "\n",
        "get_clf_eval(X_train_over_main33, y_train_over_main33, X_test_main33, y_test_main33, rf_main33)\n",
        "get_clf_eval(X_train_over_main33, y_train_over_main33, X_test_main33, y_test_main33, xgb_main33)\n",
        "get_clf_eval(X_train_over_main33, y_train_over_main33, X_test_main33, y_test_main33, lgbm_main33)"
      ],
      "metadata": {
        "colab": {
          "base_uri": "https://localhost:8080/"
        },
        "id": "9ry-UCalpj0V",
        "outputId": "2a01c666-89f5-4cde-e371-b71d314d4e10"
      },
      "execution_count": 67,
      "outputs": [
        {
          "output_type": "stream",
          "name": "stdout",
          "text": [
            "RandomForestClassifier(max_depth=5, n_estimators=200, random_state=42) =================\n",
            "오차행렬\n",
            "[[19341 13058]\n",
            " [  449  1303]]\n",
            "정확도 : 0.6045, 정밀도 : 0.0907, 재현율:0.7437\n",
            "XGBClassifier(max_depth=5, n_estimators=200, random_state=42) =================\n",
            "오차행렬\n",
            "[[31199  1200]\n",
            " [ 1607   145]]\n",
            "정확도 : 0.9178, 정밀도 : 0.1078, 재현율:0.0828\n",
            "LGBMClassifier(max_depth=5, n_estimators=200, random_state=42) =================\n",
            "오차행렬\n",
            "[[31092  1307]\n",
            " [ 1586   166]]\n",
            "정확도 : 0.9153, 정밀도 : 0.1127, 재현율:0.0947\n"
          ]
        }
      ]
    },
    {
      "cell_type": "markdown",
      "source": [
        "#### 본운동 34"
      ],
      "metadata": {
        "id": "sHHejPk9qGH9"
      }
    },
    {
      "cell_type": "code",
      "source": [
        "gridCV_rf.fit(X_train_over_main33, y_train_over_main33)\n",
        "print(gridCV_rf.best_score_, gridCV_rf.best_params_)\n",
        "gridCV_xgb.fit(X_train_over_main33, y_train_over_main33)\n",
        "print(gridCV_xgb.best_score_, gridCV_xgb.best_params_)\n",
        "gridCV_lgbm.fit(X_train_over_main33, y_train_over_main33)\n",
        "print(gridCV_lgbm.best_score_, gridCV_lgbm.best_params_)"
      ],
      "metadata": {
        "colab": {
          "base_uri": "https://localhost:8080/"
        },
        "id": "QNAb9AfIqHZq",
        "outputId": "f96891d9-3475-4314-b74d-c0caabb9ccec"
      },
      "execution_count": 64,
      "outputs": [
        {
          "output_type": "stream",
          "name": "stdout",
          "text": [
            "Fitting 3 folds for each of 9 candidates, totalling 27 fits\n",
            "0.7165144133786109 {'max_depth': 5, 'n_estimators': 200}\n",
            "Fitting 3 folds for each of 18 candidates, totalling 54 fits\n",
            "0.9395848889666025 {'learning_rate': 0.1, 'max_depth': 5, 'n_estimators': 200}\n",
            "Fitting 3 folds for each of 18 candidates, totalling 54 fits\n",
            "0.9386209852523812 {'learning_rate': 0.1, 'max_depth': 5, 'n_estimators': 200}\n"
          ]
        }
      ]
    },
    {
      "cell_type": "code",
      "source": [
        "rf_main34 = RandomForestClassifier(max_depth=5, n_estimators=200, random_state=42)\n",
        "xgb_main34 = XGBClassifier(learning_rate=0.1, max_depth=5, n_estimators=200, random_state=42)\n",
        "lgbm_main34 = LGBMClassifier(learning_rate=0.1, max_depth=5, n_estimators=200, random_state=42)\n",
        "\n",
        "get_clf_eval(X_train_over_main34, y_train_over_main34, X_test_main34, y_test_main34, rf_main34)\n",
        "get_clf_eval(X_train_over_main34, y_train_over_main34, X_test_main34, y_test_main34, xgb_main34)\n",
        "get_clf_eval(X_train_over_main34, y_train_over_main34, X_test_main34, y_test_main34, lgbm_main34)"
      ],
      "metadata": {
        "colab": {
          "base_uri": "https://localhost:8080/"
        },
        "id": "ElC0TVz8qKhO",
        "outputId": "caa790a4-305a-461b-bec3-afb14ab00e7f"
      },
      "execution_count": 68,
      "outputs": [
        {
          "output_type": "stream",
          "name": "stdout",
          "text": [
            "RandomForestClassifier(max_depth=5, n_estimators=200, random_state=42) =================\n",
            "오차행렬\n",
            "[[20657  9886]\n",
            " [  865  2743]]\n",
            "정확도 : 0.6852, 정밀도 : 0.2172, 재현율:0.7603\n",
            "XGBClassifier(max_depth=5, n_estimators=200, random_state=42) =================\n",
            "오차행렬\n",
            "[[27875  2668]\n",
            " [ 2200  1408]]\n",
            "정확도 : 0.8575, 정밀도 : 0.3454, 재현율:0.3902\n",
            "LGBMClassifier(max_depth=5, n_estimators=200, random_state=42) =================\n",
            "오차행렬\n",
            "[[27943  2600]\n",
            " [ 2244  1364]]\n",
            "정확도 : 0.8582, 정밀도 : 0.3441, 재현율:0.3780\n"
          ]
        }
      ]
    },
    {
      "cell_type": "markdown",
      "source": [
        "#### 본운동 35"
      ],
      "metadata": {
        "id": "mFnedMP0yT99"
      }
    },
    {
      "cell_type": "code",
      "source": [
        "gridCV_rf.fit(X_train_over_main35, y_train_over_main35)\n",
        "print(gridCV_rf.best_score_, gridCV_rf.best_params_)\n",
        "gridCV_xgb.fit(X_train_over_main35, y_train_over_main35)\n",
        "print(gridCV_xgb.best_score_, gridCV_xgb.best_params_)\n",
        "gridCV_lgbm.fit(X_train_over_main35, y_train_over_main35)\n",
        "print(gridCV_lgbm.best_score_, gridCV_lgbm.best_params_)"
      ],
      "metadata": {
        "colab": {
          "base_uri": "https://localhost:8080/"
        },
        "id": "UOHiyQBkycRQ",
        "outputId": "52a5c453-0ca5-441b-c808-5d04faa536eb"
      },
      "execution_count": 65,
      "outputs": [
        {
          "output_type": "stream",
          "name": "stdout",
          "text": [
            "Fitting 3 folds for each of 9 candidates, totalling 27 fits\n",
            "0.7061099475102246 {'max_depth': 5, 'n_estimators': 100}\n",
            "Fitting 3 folds for each of 18 candidates, totalling 54 fits\n",
            "0.9546315929129497 {'learning_rate': 0.1, 'max_depth': 5, 'n_estimators': 200}\n",
            "Fitting 3 folds for each of 18 candidates, totalling 54 fits\n",
            "0.9521070868096153 {'learning_rate': 0.1, 'max_depth': 5, 'n_estimators': 200}\n"
          ]
        }
      ]
    },
    {
      "cell_type": "code",
      "source": [
        "rf_main35 = RandomForestClassifier(max_depth=5, n_estimators=100, random_state=42)\n",
        "xgb_main35 = XGBClassifier(learning_rate=0.1, max_depth=5, n_estimators=200, random_state=42)\n",
        "lgbm_main35 = LGBMClassifier(learning_rate=0.1, max_depth=5, n_estimators=200, random_state=42)\n",
        "\n",
        "get_clf_eval(X_train_over_main35, y_train_over_main35, X_test_main35, y_test_main35, rf_main35)\n",
        "get_clf_eval(X_train_over_main35, y_train_over_main35, X_test_main35, y_test_main35, xgb_main35)\n",
        "get_clf_eval(X_train_over_main35, y_train_over_main35, X_test_main35, y_test_main35, lgbm_main35)"
      ],
      "metadata": {
        "colab": {
          "base_uri": "https://localhost:8080/"
        },
        "id": "awus4Du3yg8u",
        "outputId": "d2169e4b-be4a-4423-9ce2-7a2fc55db1af"
      },
      "execution_count": 69,
      "outputs": [
        {
          "output_type": "stream",
          "name": "stdout",
          "text": [
            "RandomForestClassifier(max_depth=5, random_state=42) =================\n",
            "오차행렬\n",
            "[[18473 14185]\n",
            " [  451  1042]]\n",
            "정확도 : 0.5714, 정밀도 : 0.0684, 재현율:0.6979\n",
            "XGBClassifier(max_depth=5, n_estimators=200, random_state=42) =================\n",
            "오차행렬\n",
            "[[32135   523]\n",
            " [ 1451    42]]\n",
            "정확도 : 0.9422, 정밀도 : 0.0743, 재현율:0.0281\n",
            "LGBMClassifier(max_depth=5, n_estimators=200, random_state=42) =================\n",
            "오차행렬\n",
            "[[32352   306]\n",
            " [ 1465    28]]\n",
            "정확도 : 0.9481, 정밀도 : 0.0838, 재현율:0.0188\n"
          ]
        }
      ]
    },
    {
      "cell_type": "markdown",
      "source": [
        "#### 본운동 36"
      ],
      "metadata": {
        "id": "xrRuQy9ey4Bk"
      }
    },
    {
      "cell_type": "code",
      "source": [
        "gridCV_rf.fit(X_train_over_main36, y_train_over_main36)\n",
        "print(gridCV_rf.best_score_, gridCV_rf.best_params_)\n",
        "gridCV_xgb.fit(X_train_over_main36, y_train_over_main36)\n",
        "print(gridCV_xgb.best_score_, gridCV_xgb.best_params_)\n",
        "gridCV_lgbm.fit(X_train_over_main36, y_train_over_main36)\n",
        "print(gridCV_lgbm.best_score_, gridCV_lgbm.best_params_)"
      ],
      "metadata": {
        "colab": {
          "base_uri": "https://localhost:8080/"
        },
        "id": "vepgWYsCy5Vk",
        "outputId": "ca057be3-76dd-4203-ae70-e22b7e297150"
      },
      "execution_count": 66,
      "outputs": [
        {
          "output_type": "stream",
          "name": "stdout",
          "text": [
            "Fitting 3 folds for each of 9 candidates, totalling 27 fits\n",
            "0.708771381771227 {'max_depth': 5, 'n_estimators': 100}\n",
            "Fitting 3 folds for each of 18 candidates, totalling 54 fits\n",
            "0.9591367903797156 {'learning_rate': 0.1, 'max_depth': 5, 'n_estimators': 200}\n",
            "Fitting 3 folds for each of 18 candidates, totalling 54 fits\n",
            "0.9557130347436088 {'learning_rate': 0.1, 'max_depth': 5, 'n_estimators': 200}\n"
          ]
        }
      ]
    },
    {
      "cell_type": "code",
      "source": [
        "rf_main36 = RandomForestClassifier(max_depth=5, n_estimators=100, random_state=42)\n",
        "xgb_main36 = XGBClassifier(learning_rate=0.1, max_depth=5, n_estimators=200, random_state=42)\n",
        "lgbm_main36 = LGBMClassifier(learning_rate=0.1, max_depth=5, n_estimators=200, random_state=42)\n",
        "\n",
        "get_clf_eval(X_train_over_main36, y_train_over_main36, X_test_main36, y_test_main36, rf_main36)\n",
        "get_clf_eval(X_train_over_main36, y_train_over_main36, X_test_main36, y_test_main36, xgb_main36)\n",
        "get_clf_eval(X_train_over_main36, y_train_over_main36, X_test_main36, y_test_main36, lgbm_main36)"
      ],
      "metadata": {
        "colab": {
          "base_uri": "https://localhost:8080/"
        },
        "id": "Wbg7JuhYzJ0z",
        "outputId": "ce568937-b20e-4f50-fb29-d6a5a2b6e0f5"
      },
      "execution_count": 70,
      "outputs": [
        {
          "output_type": "stream",
          "name": "stdout",
          "text": [
            "RandomForestClassifier(max_depth=5, random_state=42) =================\n",
            "오차행렬\n",
            "[[17831 15005]\n",
            " [  332   983]]\n",
            "정확도 : 0.5509, 정밀도 : 0.0615, 재현율:0.7475\n",
            "XGBClassifier(max_depth=5, n_estimators=200, random_state=42) =================\n",
            "오차행렬\n",
            "[[32299   537]\n",
            " [ 1257    58]]\n",
            "정확도 : 0.9475, 정밀도 : 0.0975, 재현율:0.0441\n",
            "LGBMClassifier(max_depth=5, n_estimators=200, random_state=42) =================\n",
            "오차행렬\n",
            "[[32387   449]\n",
            " [ 1271    44]]\n",
            "정확도 : 0.9496, 정밀도 : 0.0892, 재현율:0.0335\n"
          ]
        }
      ]
    }
  ],
  "metadata": {
    "colab": {
      "collapsed_sections": [],
      "name": "Classification.ipynb",
      "provenance": [],
      "mount_file_id": "1d1QrTjO1JygnfiYGVDMXlM1x1ARRJLoo",
      "authorship_tag": "ABX9TyNbbL3hH6e/zaGGsBwWgqN8",
      "include_colab_link": true
    },
    "gpuClass": "standard",
    "kernelspec": {
      "display_name": "Python 3",
      "name": "python3"
    },
    "language_info": {
      "name": "python"
    }
  },
  "nbformat": 4,
  "nbformat_minor": 0
}
