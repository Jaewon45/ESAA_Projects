{
 "cells": [
  {
   "cell_type": "code",
   "execution_count": 1,
   "metadata": {
    "id": "31CG1uY3c5dY"
   },
   "outputs": [],
   "source": [
    "import pandas as pd \n",
    "import numpy as np\n",
    "import seaborn as sns\n",
    "import matplotlib.pyplot as plt\n",
    "import warnings\n",
    "warnings.filterwarnings('ignore')"
   ]
  },
  {
   "cell_type": "code",
   "execution_count": 2,
   "metadata": {
    "id": "ASaVnZWtdTey"
   },
   "outputs": [],
   "source": [
    "data_pre = pd.read_csv(\"C:/Users/Jaewon/ESAA/newdata/pre_full_data.csv\")\n",
    "data_main = pd.read_csv(\"C:/Users/Jaewon/ESAA/newdata/main_full_data.csv\")\n",
    "data_end = pd.read_csv(\"C:/Users/Jaewon/ESAA/newdata/end_full_data.csv\")\n"
   ]
  },
  {
   "cell_type": "code",
   "execution_count": 3,
   "metadata": {
    "id": "efqhNOo0jaBT"
   },
   "outputs": [],
   "source": [
    "col = ['MESURE_AGE_CO','SEXDSTN_FLAG_CD','MESURE_IEM_001_VALUE','MESURE_IEM_002_VALUE','MESURE_IEM_003_VALUE','MESURE_IEM_005_VALUE','MESURE_IEM_006_VALUE','MESURE_IEM_012_VALUE','MESURE_IEM_018_VALUE']\n",
    "data_pre_selected = data_pre[col]\n",
    "data_main_selected = data_main[col]\n",
    "data_end_selected = data_end[col]\n",
    "\n",
    "# 준비운동 분류용 데이터프레임 생성\n",
    "for i in range (1,11):  \n",
    "  globals()['data_pre'+str(i)] = pd.concat([data_pre_selected, pd.DataFrame(data_pre.iloc[:,(i-11)])], axis=1)\n",
    "\n",
    "# 본운동 분류용 데이터프레임 생성\n",
    "for i in range (1,37):  \n",
    "  globals()['data_main'+str(i)] = pd.concat([data_main_selected, pd.DataFrame(data_main.iloc[:,(i-37)])], axis=1)\n",
    "\n",
    "# 마무리운동 분류용 데이터프레임 생성\n",
    "for i in range (1,9):  \n",
    "  globals()['data_end'+str(i)] = pd.concat([data_end_selected, pd.DataFrame(data_end.iloc[:,(i-9)])], axis=1)"
   ]
  },
  {
   "cell_type": "code",
   "execution_count": 4,
   "metadata": {
    "colab": {
     "base_uri": "https://localhost:8080/"
    },
    "id": "Rm6UdRxPgvx-",
    "outputId": "c0739272-25e6-4dc2-fd57-833c7eb10ef3"
   },
   "outputs": [
    {
     "name": "stdout",
     "output_type": "stream",
     "text": [
      "(113834, 27) (113834, 53) (113834, 25)\n",
      "(113834, 9) (113834, 9) (113834, 9)\n",
      "(113834, 10) (113834, 10) (113834, 10)\n"
     ]
    }
   ],
   "source": [
    "print(data_pre.shape,data_main.shape,data_end.shape)\n",
    "print(data_pre_selected.shape,data_main_selected.shape,data_end_selected.shape)\n",
    "print(data_pre1.shape,data_main36.shape,data_end8.shape)"
   ]
  },
  {
   "cell_type": "code",
   "execution_count": 21,
   "metadata": {
    "id": "1N7qhu3QoDLB"
   },
   "outputs": [],
   "source": [
    "# 분류를 위한 데이터전처리용 함수 생성\n",
    "def preprocessing(df):\n",
    "    import pandas as pd\n",
    "    from sklearn.model_selection import train_test_split\n",
    "    from imblearn.over_sampling import SMOTE\n",
    "\n",
    "    # 1) 원핫 인코딩 \n",
    "    df_rev = pd.get_dummies(data=df)\n",
    "\n",
    "    # 2) X, y 데이터로 분리 \n",
    "    temp = list(range(11)); del temp[-3]\n",
    "    X = df_rev.iloc[:,temp]\n",
    "    X = X.astype(float)\n",
    "    y = df_rev.iloc[:,-3]\n",
    "\n",
    "    # 3) 학습/테스트용 데이터세트 분리\n",
    "    X_train, X_test, y_train, y_test = train_test_split(X, y, test_size=0.3, random_state=42)\n",
    "\n",
    "    # 4) SMOTE를 이용한 오버샘플링\n",
    "    smote = SMOTE(random_state=42)\n",
    "    X_train_over, y_train_over = smote.fit_resample(X_train, y_train)\n",
    "\n",
    "    return (X_train, X_test, y_train, y_test, X_train_over, y_train_over)"
   ]
  },
  {
   "cell_type": "code",
   "execution_count": 22,
   "metadata": {
    "id": "hZ7CtFag5zKm"
   },
   "outputs": [],
   "source": [
    "# 본운동 종류별 분류를 위한 데이터셋 생성 \n",
    "X_train_main28, X_test_main28, y_train_main28, y_test_main28, X_train_over_main28, y_train_over_main28 = preprocessing(data_main28)\n",
    "X_train_main29, X_test_main29, y_train_main29, y_test_main29, X_train_over_main29, y_train_over_main29 = preprocessing(data_main29)\n",
    "X_train_main30, X_test_main30, y_train_main30, y_test_main30, X_train_over_main30, y_train_over_main30 = preprocessing(data_main30)\n",
    "X_train_main31, X_test_main31, y_train_main31, y_test_main31, X_train_over_main31, y_train_over_main31 = preprocessing(data_main31)\n",
    "X_train_main32, X_test_main32, y_train_main32, y_test_main32, X_train_over_main32, y_train_over_main32 = preprocessing(data_main32)\n",
    "X_train_main33, X_test_main33, y_train_main33, y_test_main33, X_train_over_main33, y_train_over_main33 = preprocessing(data_main33)\n",
    "X_train_main34, X_test_main34, y_train_main34, y_test_main34, X_train_over_main34, y_train_over_main34 = preprocessing(data_main34)\n",
    "X_train_main35, X_test_main35, y_train_main35, y_test_main35, X_train_over_main35, y_train_over_main35 = preprocessing(data_main35)\n",
    "X_train_main36, X_test_main36, y_train_main36, y_test_main36, X_train_over_main36, y_train_over_main36 = preprocessing(data_main36)\n",
    "\n",
    "# 마무리운동 종류별 분류를 위한 데이터셋 생성\n",
    "X_train_end5, X_test_end5, y_train_end5, y_test_end5, X_train_over_end5, y_train_over_end5 = preprocessing(data_end5)\n",
    "X_train_end6, X_test_end6, y_train_end6, y_test_end6, X_train_over_end6, y_train_over_end6 = preprocessing(data_end6)\n",
    "X_train_end7, X_test_end7, y_train_end7, y_test_end7, X_train_over_end7, y_train_over_end7 = preprocessing(data_end7)\n",
    "X_train_end8, X_test_end8, y_train_end8, y_test_end8, X_train_over_end8, y_train_over_end8 = preprocessing(data_end8)"
   ]
  },
  {
   "cell_type": "code",
   "execution_count": 8,
   "metadata": {
    "colab": {
     "base_uri": "https://localhost:8080/"
    },
    "id": "IPkAu7FK5846",
    "outputId": "b7166c23-ee95-4ae2-a008-20dfe5fde86c"
   },
   "outputs": [
    {
     "name": "stdout",
     "output_type": "stream",
     "text": [
      "(79683, 10) (34151, 10) (34151,) (150182, 10) (150182,)\n",
      "(79683, 10) (34151, 10) (34151,) (149692, 10) (149692,)\n",
      "(79683, 10) (34151, 10) (34151,) (152002, 10) (152002,)\n",
      "(79683, 10) (34151, 10) (34151,) (150410, 10) (150410,)\n",
      "(79683, 10) (34151, 10) (34151,) (146440, 10) (146440,)\n",
      "(79683, 10) (34151, 10) (34151,) (151468, 10) (151468,)\n",
      "(79683, 10) (34151, 10) (34151,) (142498, 10) (142498,)\n",
      "(79683, 10) (34151, 10) (34151,) (152506, 10) (152506,)\n",
      "(79683, 10) (34151, 10) (34151,) (153340, 10) (153340,)\n"
     ]
    }
   ],
   "source": [
    "print(X_train_main28.shape, X_test_main28.shape, y_test_main28.shape, X_train_over_main28.shape, y_train_over_main28.shape)\n",
    "print(X_train_main29.shape, X_test_main29.shape, y_test_main29.shape, X_train_over_main29.shape, y_train_over_main29.shape)\n",
    "print(X_train_main30.shape, X_test_main30.shape, y_test_main30.shape, X_train_over_main30.shape, y_train_over_main30.shape)\n",
    "print(X_train_main31.shape, X_test_main31.shape, y_test_main31.shape, X_train_over_main31.shape, y_train_over_main31.shape)\n",
    "print(X_train_main32.shape, X_test_main32.shape, y_test_main32.shape, X_train_over_main32.shape, y_train_over_main32.shape)\n",
    "print(X_train_main33.shape, X_test_main33.shape, y_test_main33.shape, X_train_over_main33.shape, y_train_over_main33.shape)\n",
    "print(X_train_main34.shape, X_test_main34.shape, y_test_main34.shape, X_train_over_main34.shape, y_train_over_main34.shape)\n",
    "print(X_train_main35.shape, X_test_main35.shape, y_test_main35.shape, X_train_over_main35.shape, y_train_over_main35.shape)\n",
    "print(X_train_main36.shape, X_test_main36.shape, y_test_main36.shape, X_train_over_main36.shape, y_train_over_main36.shape)"
   ]
  },
  {
   "cell_type": "code",
   "execution_count": 9,
   "metadata": {
    "colab": {
     "base_uri": "https://localhost:8080/"
    },
    "id": "aOFuSE_rAidZ",
    "outputId": "aa3b5bdb-6a8d-4ff6-e31b-a08e3720789b"
   },
   "outputs": [
    {
     "name": "stdout",
     "output_type": "stream",
     "text": [
      "(79683, 10) (34151, 10) (34151,) (136374, 10) (136374,)\n",
      "(79683, 10) (34151, 10) (34151,) (143254, 10) (143254,)\n",
      "(79683, 10) (34151, 10) (34151,) (142646, 10) (142646,)\n",
      "(79683, 10) (34151, 10) (34151,) (142498, 10) (142498,)\n"
     ]
    }
   ],
   "source": [
    "print(X_train_end5.shape, X_test_end5.shape, y_test_end5.shape, X_train_over_end5.shape, y_train_over_end5.shape)\n",
    "print(X_train_end6.shape, X_test_end6.shape, y_test_end6.shape, X_train_over_end6.shape, y_train_over_end6.shape)\n",
    "print(X_train_end7.shape, X_test_end7.shape, y_test_end7.shape, X_train_over_end7.shape, y_train_over_end7.shape)\n",
    "print(X_train_end8.shape, X_test_end8.shape, y_test_end8.shape, X_train_over_end8.shape, y_train_over_end8.shape)"
   ]
  },
  {
   "cell_type": "code",
   "execution_count": 76,
   "metadata": {
    "id": "OZ_7l-ztCYrR"
   },
   "outputs": [],
   "source": [
    "## 모델 정의\n",
    "# 1) RF\n",
    "from sklearn.tree import DecisionTreeClassifier\n",
    "from sklearn.ensemble import RandomForestClassifier\n",
    "myrf = RandomForestClassifier(random_state=42)\n",
    "\n",
    "# 2) XGB\n",
    "from xgboost import XGBClassifier\n",
    "myxgb = XGBClassifier(random_state=42)\n",
    "\n",
    "# 3) GBM\n",
    "from lightgbm import LGBMClassifier\n",
    "mylgbm = LGBMClassifier(random_state=42)\n",
    "\n",
    "\n",
    "## 모델별 하이퍼파라미터튜닝용 파라미터 및 GridsearchCV 정의\n",
    "from sklearn.model_selection import GridSearchCV\n",
    "\n",
    "params_rf = { 'max_depth' : [3,4,5], 'n_estimators' : [100,150,200]}\n",
    "params_xgb = { 'max_depth' : [3,4,5], 'n_estimators' : [100,150,200], 'learning_rate' : [0.1, 0.05]}\n",
    "params_lgbm = { 'max_depth' : [3,4,5], 'n_estimators' : [100,150,200], 'learning_rate' : [0.1, 0.05]}\n",
    "\n",
    "gridCV_rf = GridSearchCV(myrf, param_grid=params_rf, cv=3, n_jobs=-1, verbose=1)\n",
    "gridCV_xgb = GridSearchCV(myxgb, param_grid=params_xgb, cv=3, n_jobs=-1, verbose=1)\n",
    "gridCV_lgbm = GridSearchCV(mylgbm, param_grid=params_lgbm, cv=3, n_jobs=-1, verbose=1)"
   ]
  },
  {
   "cell_type": "code",
   "execution_count": 60,
   "metadata": {},
   "outputs": [],
   "source": [
    "def get_clf_eval(X_train, y_train, X_test, y_test, model):\n",
    "    model.fit(X_train, y_train)\n",
    "    pred = model.predict(X_test)\n",
    "    from sklearn.metrics import accuracy_score, precision_score, recall_score, confusion_matrix\n",
    "    confusion = confusion_matrix(y_test, pred)\n",
    "    accuracy = accuracy_score(y_test, pred)\n",
    "    precision = precision_score(y_test, pred)\n",
    "    recall = recall_score(y_test, pred)\n",
    "    print(model,'=================')\n",
    "    print('오차행렬')\n",
    "    print(confusion)\n",
    "    print('정확도 : {0:.4f}, 정밀도 : {1:.4f}, 재현율:{2:.4f}'.format(accuracy, precision, recall))"
   ]
  },
  {
   "cell_type": "markdown",
   "metadata": {},
   "source": [
    "#### 마무리운동 5"
   ]
  },
  {
   "cell_type": "code",
   "execution_count": 77,
   "metadata": {},
   "outputs": [
    {
     "name": "stdout",
     "output_type": "stream",
     "text": [
      "Fitting 3 folds for each of 9 candidates, totalling 27 fits\n",
      "0.6818675114024667 {'max_depth': 5, 'n_estimators': 100}\n"
     ]
    }
   ],
   "source": [
    "gridCV_rf.fit(X_train_over_end5, y_train_over_end5)\n",
    "print(gridCV_rf.best_score_, gridCV_rf.best_params_)"
   ]
  },
  {
   "cell_type": "code",
   "execution_count": 79,
   "metadata": {},
   "outputs": [
    {
     "name": "stdout",
     "output_type": "stream",
     "text": [
      "Fitting 3 folds for each of 18 candidates, totalling 54 fits\n",
      "0.1070704164985566 {'learning_rate': 0.1, 'max_depth': 5, 'n_estimators': 200}\n"
     ]
    }
   ],
   "source": [
    "gridCV_xgb.fit(X_train_over_end5, y_train_over_end5)\n",
    "print(gridCV_xgb.best_score_, gridCV_xgb.best_params_)"
   ]
  },
  {
   "cell_type": "code",
   "execution_count": 80,
   "metadata": {
    "scrolled": true
   },
   "outputs": [
    {
     "name": "stdout",
     "output_type": "stream",
     "text": [
      "Fitting 3 folds for each of 18 candidates, totalling 54 fits\n",
      "0.09448060106672414 {'learning_rate': 0.1, 'max_depth': 5, 'n_estimators': 200}\n"
     ]
    }
   ],
   "source": [
    "gridCV_lgbm.fit(X_train_over_end5, y_train_over_end5)\n",
    "print(gridCV_lgbm.best_score_, gridCV_lgbm.best_params_)"
   ]
  },
  {
   "cell_type": "code",
   "execution_count": 90,
   "metadata": {},
   "outputs": [
    {
     "name": "stdout",
     "output_type": "stream",
     "text": [
      "RandomForestClassifier(max_depth=5, random_state=42) =================\n",
      "오차행렬\n",
      "[[17822 11472]\n",
      " [ 1765  3092]]\n",
      "정확도 : 0.6124, 정밀도 : 0.2123, 재현율:0.6366\n",
      "[14:12:47] WARNING: C:/Users/Administrator/workspace/xgboost-win64_release_1.5.1/src/learner.cc:1115: Starting in XGBoost 1.3.0, the default evaluation metric used with the objective 'binary:logistic' was changed from 'error' to 'logloss'. Explicitly set eval_metric if you'd like to restore the old behavior.\n",
      "XGBClassifier(base_score=0.5, booster='gbtree', colsample_bylevel=1,\n",
      "              colsample_bynode=1, colsample_bytree=1, enable_categorical=False,\n",
      "              gamma=0, gpu_id=-1, importance_type=None,\n",
      "              interaction_constraints='', learning_rate=0.1, max_delta_step=0,\n",
      "              max_depth=5, min_child_weight=1, missing=nan,\n",
      "              monotone_constraints='()', n_estimators=200, n_jobs=4,\n",
      "              num_parallel_tree=1, predictor='auto', random_state=42,\n",
      "              reg_alpha=0, reg_lambda=1, scale_pos_weight=1, subsample=1,\n",
      "              tree_method='exact', validate_parameters=1, verbosity=None) =================\n",
      "오차행렬\n",
      "[[27667  1627]\n",
      " [ 4193   664]]\n",
      "정확도 : 0.8296, 정밀도 : 0.2898, 재현율:0.1367\n",
      "LGBMClassifier(max_depth=5, n_estimators=200, random_state=42) =================\n",
      "오차행렬\n",
      "[[27936  1358]\n",
      " [ 4312   545]]\n",
      "정확도 : 0.8340, 정밀도 : 0.2864, 재현율:0.1122\n"
     ]
    }
   ],
   "source": [
    "rf_end5 = RandomForestClassifier(max_depth=5, n_estimators=100, random_state=42)\n",
    "xgb_end5 = XGBClassifier(learning_rate=0.1, max_depth=5, n_estimators=200, random_state=42)\n",
    "lgbm_end5 = LGBMClassifier(learning_rate=0.1, max_depth=5, n_estimators=200, random_state=42)\n",
    "\n",
    "get_clf_eval(X_train_over_end5, y_train_over_end5, X_test_end5, y_test_end5, rf_end5)\n",
    "get_clf_eval(X_train_over_end5, y_train_over_end5, X_test_end5, y_test_end5, xgb_end5)\n",
    "get_clf_eval(X_train_over_end5, y_train_over_end5, X_test_end5, y_test_end5, lgbm_end5)"
   ]
  },
  {
   "cell_type": "markdown",
   "metadata": {},
   "source": [
    "#### 마무리운동 6"
   ]
  },
  {
   "cell_type": "code",
   "execution_count": 81,
   "metadata": {},
   "outputs": [
    {
     "name": "stdout",
     "output_type": "stream",
     "text": [
      "Fitting 3 folds for each of 9 candidates, totalling 27 fits\n",
      "0.7018373142846102 {'max_depth': 5, 'n_estimators': 200}\n"
     ]
    }
   ],
   "source": [
    "gridCV_rf.fit(X_train_over_end6, y_train_over_end6)\n",
    "print(gridCV_rf.best_score_, gridCV_rf.best_params_)"
   ]
  },
  {
   "cell_type": "code",
   "execution_count": 82,
   "metadata": {},
   "outputs": [
    {
     "name": "stdout",
     "output_type": "stream",
     "text": [
      "Fitting 3 folds for each of 18 candidates, totalling 54 fits\n",
      "0.07860001261834355 {'learning_rate': 0.1, 'max_depth': 5, 'n_estimators': 200}\n"
     ]
    }
   ],
   "source": [
    "gridCV_xgb.fit(X_train_over_end6, y_train_over_end6)\n",
    "print(gridCV_xgb.best_score_, gridCV_xgb.best_params_)"
   ]
  },
  {
   "cell_type": "code",
   "execution_count": 83,
   "metadata": {
    "scrolled": true
   },
   "outputs": [
    {
     "name": "stdout",
     "output_type": "stream",
     "text": [
      "Fitting 3 folds for each of 18 candidates, totalling 54 fits\n",
      "0.05400417249218318 {'learning_rate': 0.1, 'max_depth': 5, 'n_estimators': 200}\n"
     ]
    }
   ],
   "source": [
    "gridCV_lgbm.fit(X_train_over_end6, y_train_over_end6)\n",
    "print(gridCV_lgbm.best_score_, gridCV_lgbm.best_params_)"
   ]
  },
  {
   "cell_type": "code",
   "execution_count": 91,
   "metadata": {},
   "outputs": [
    {
     "name": "stdout",
     "output_type": "stream",
     "text": [
      "RandomForestClassifier(max_depth=5, n_estimators=200, random_state=42) =================\n",
      "오차행렬\n",
      "[[20352 10372]\n",
      " [ 1098  2329]]\n",
      "정확도 : 0.6641, 정밀도 : 0.1834, 재현율:0.6796\n",
      "[14:13:42] WARNING: C:/Users/Administrator/workspace/xgboost-win64_release_1.5.1/src/learner.cc:1115: Starting in XGBoost 1.3.0, the default evaluation metric used with the objective 'binary:logistic' was changed from 'error' to 'logloss'. Explicitly set eval_metric if you'd like to restore the old behavior.\n",
      "XGBClassifier(base_score=0.5, booster='gbtree', colsample_bylevel=1,\n",
      "              colsample_bynode=1, colsample_bytree=1, enable_categorical=False,\n",
      "              gamma=0, gpu_id=-1, importance_type=None,\n",
      "              interaction_constraints='', learning_rate=0.1, max_delta_step=0,\n",
      "              max_depth=5, min_child_weight=1, missing=nan,\n",
      "              monotone_constraints='()', n_estimators=200, n_jobs=4,\n",
      "              num_parallel_tree=1, predictor='auto', random_state=42,\n",
      "              reg_alpha=0, reg_lambda=1, scale_pos_weight=1, subsample=1,\n",
      "              tree_method='exact', validate_parameters=1, verbosity=None) =================\n",
      "오차행렬\n",
      "[[28468  2256]\n",
      " [ 2659   768]]\n",
      "정확도 : 0.8561, 정밀도 : 0.2540, 재현율:0.2241\n",
      "LGBMClassifier(max_depth=5, n_estimators=200, random_state=42) =================\n",
      "오차행렬\n",
      "[[28631  2093]\n",
      " [ 2712   715]]\n",
      "정확도 : 0.8593, 정밀도 : 0.2546, 재현율:0.2086\n"
     ]
    }
   ],
   "source": [
    "rf_end6 = RandomForestClassifier(max_depth=5, n_estimators=200, random_state=42)\n",
    "xgb_end6 = XGBClassifier(learning_rate=0.1, max_depth=5, n_estimators=200, random_state=42)\n",
    "lgbm_end6 = LGBMClassifier(learning_rate=0.1, max_depth=5, n_estimators=200, random_state=42)\n",
    "\n",
    "get_clf_eval(X_train_over_end6, y_train_over_end6, X_test_end6, y_test_end6, rf_end6)\n",
    "get_clf_eval(X_train_over_end6, y_train_over_end6, X_test_end6, y_test_end6, xgb_end6)\n",
    "get_clf_eval(X_train_over_end6, y_train_over_end6, X_test_end6, y_test_end6, lgbm_end6)"
   ]
  },
  {
   "cell_type": "markdown",
   "metadata": {},
   "source": [
    "#### 마무리운동 7"
   ]
  },
  {
   "cell_type": "code",
   "execution_count": 84,
   "metadata": {
    "scrolled": true
   },
   "outputs": [
    {
     "name": "stdout",
     "output_type": "stream",
     "text": [
      "Fitting 3 folds for each of 9 candidates, totalling 27 fits\n",
      "0.7031953815832249 {'max_depth': 5, 'n_estimators': 150}\n",
      "Fitting 3 folds for each of 18 candidates, totalling 54 fits\n",
      "0.06387078032154588 {'learning_rate': 0.1, 'max_depth': 5, 'n_estimators': 200}\n",
      "Fitting 3 folds for each of 18 candidates, totalling 54 fits\n",
      "0.06099474199569377 {'learning_rate': 0.1, 'max_depth': 5, 'n_estimators': 200}\n"
     ]
    }
   ],
   "source": [
    "gridCV_rf.fit(X_train_over_end7, y_train_over_end7)\n",
    "print(gridCV_rf.best_score_, gridCV_rf.best_params_)\n",
    "gridCV_xgb.fit(X_train_over_end7, y_train_over_end7)\n",
    "print(gridCV_xgb.best_score_, gridCV_xgb.best_params_)\n",
    "gridCV_lgbm.fit(X_train_over_end7, y_train_over_end7)\n",
    "print(gridCV_lgbm.best_score_, gridCV_lgbm.best_params_)"
   ]
  },
  {
   "cell_type": "code",
   "execution_count": 92,
   "metadata": {},
   "outputs": [
    {
     "name": "stdout",
     "output_type": "stream",
     "text": [
      "RandomForestClassifier(max_depth=5, n_estimators=150, random_state=42) =================\n",
      "오차행렬\n",
      "[[15957 14538]\n",
      " [  848  2808]]\n",
      "정확도 : 0.5495, 정밀도 : 0.1619, 재현율:0.7681\n",
      "[14:14:29] WARNING: C:/Users/Administrator/workspace/xgboost-win64_release_1.5.1/src/learner.cc:1115: Starting in XGBoost 1.3.0, the default evaluation metric used with the objective 'binary:logistic' was changed from 'error' to 'logloss'. Explicitly set eval_metric if you'd like to restore the old behavior.\n",
      "XGBClassifier(base_score=0.5, booster='gbtree', colsample_bylevel=1,\n",
      "              colsample_bynode=1, colsample_bytree=1, enable_categorical=False,\n",
      "              gamma=0, gpu_id=-1, importance_type=None,\n",
      "              interaction_constraints='', learning_rate=0.1, max_delta_step=0,\n",
      "              max_depth=5, min_child_weight=1, missing=nan,\n",
      "              monotone_constraints='()', n_estimators=200, n_jobs=4,\n",
      "              num_parallel_tree=1, predictor='auto', random_state=42,\n",
      "              reg_alpha=0, reg_lambda=1, scale_pos_weight=1, subsample=1,\n",
      "              tree_method='exact', validate_parameters=1, verbosity=None) =================\n",
      "오차행렬\n",
      "[[29262  1233]\n",
      " [ 3176   480]]\n",
      "정확도 : 0.8709, 정밀도 : 0.2802, 재현율:0.1313\n",
      "LGBMClassifier(max_depth=5, n_estimators=200, random_state=42) =================\n",
      "오차행렬\n",
      "[[28881  1614]\n",
      " [ 3099   557]]\n",
      "정확도 : 0.8620, 정밀도 : 0.2566, 재현율:0.1524\n"
     ]
    }
   ],
   "source": [
    "rf_end7 = RandomForestClassifier(max_depth=5, n_estimators=150, random_state=42)\n",
    "xgb_end7 = XGBClassifier(learning_rate=0.1, max_depth=5, n_estimators=200, random_state=42)\n",
    "lgbm_end7 = LGBMClassifier(learning_rate=0.1, max_depth=5, n_estimators=200, random_state=42)\n",
    "\n",
    "get_clf_eval(X_train_over_end7, y_train_over_end7, X_test_end7, y_test_end7, rf_end7)\n",
    "get_clf_eval(X_train_over_end7, y_train_over_end7, X_test_end7, y_test_end7, xgb_end7)\n",
    "get_clf_eval(X_train_over_end7, y_train_over_end7, X_test_end7, y_test_end7, lgbm_end7)"
   ]
  },
  {
   "cell_type": "code",
   "execution_count": 102,
   "metadata": {},
   "outputs": [
    {
     "name": "stdout",
     "output_type": "stream",
     "text": [
      "RandomForestClassifier(max_depth=5, n_estimators=200, random_state=42) =================\n",
      "오차행렬\n",
      "[[16062 14433]\n",
      " [  864  2792]]\n",
      "정확도 : 0.5521, 정밀도 : 0.1621, 재현율:0.7637\n"
     ]
    }
   ],
   "source": [
    "rf_end7_rev = RandomForestClassifier(max_depth=5, n_estimators=200, random_state=42)\n",
    "get_clf_eval(X_train_over_end7, y_train_over_end7, X_test_end7, y_test_end7, rf_end7_rev)"
   ]
  },
  {
   "cell_type": "code",
   "execution_count": 103,
   "metadata": {
    "scrolled": true
   },
   "outputs": [
    {
     "name": "stdout",
     "output_type": "stream",
     "text": [
      "RandomForestClassifier(max_depth=5, n_estimators=400, random_state=42) =================\n",
      "오차행렬\n",
      "[[16086 14409]\n",
      " [  862  2794]]\n",
      "정확도 : 0.5528, 정밀도 : 0.1624, 재현율:0.7642\n"
     ]
    }
   ],
   "source": [
    "rf_end7_rev1 = RandomForestClassifier(max_depth=5, n_estimators=400, random_state=42)\n",
    "get_clf_eval(X_train_over_end7, y_train_over_end7, X_test_end7, y_test_end7, rf_end7_rev1)"
   ]
  },
  {
   "cell_type": "code",
   "execution_count": 105,
   "metadata": {},
   "outputs": [
    {
     "name": "stdout",
     "output_type": "stream",
     "text": [
      "RandomForestClassifier(max_depth=6, n_estimators=400, random_state=42) =================\n",
      "오차행렬\n",
      "[[16919 13576]\n",
      " [  916  2740]]\n",
      "정확도 : 0.5756, 정밀도 : 0.1679, 재현율:0.7495\n"
     ]
    }
   ],
   "source": [
    "rf_end7_rev2 = RandomForestClassifier(max_depth=6, n_estimators=400, random_state=42)\n",
    "get_clf_eval(X_train_over_end7, y_train_over_end7, X_test_end7, y_test_end7, rf_end7_rev2)"
   ]
  },
  {
   "cell_type": "code",
   "execution_count": 106,
   "metadata": {},
   "outputs": [
    {
     "name": "stdout",
     "output_type": "stream",
     "text": [
      "RandomForestClassifier(max_depth=7, n_estimators=400, random_state=42) =================\n",
      "오차행렬\n",
      "[[18350 12145]\n",
      " [ 1071  2585]]\n",
      "정확도 : 0.6130, 정밀도 : 0.1755, 재현율:0.7071\n"
     ]
    }
   ],
   "source": [
    "rf_end7_rev3 = RandomForestClassifier(max_depth=7, n_estimators=400, random_state=42)\n",
    "get_clf_eval(X_train_over_end7, y_train_over_end7, X_test_end7, y_test_end7, rf_end7_rev3)"
   ]
  },
  {
   "cell_type": "markdown",
   "metadata": {},
   "source": [
    "#### 마무리운동 8"
   ]
  },
  {
   "cell_type": "code",
   "execution_count": 85,
   "metadata": {},
   "outputs": [
    {
     "name": "stdout",
     "output_type": "stream",
     "text": [
      "Fitting 3 folds for each of 9 candidates, totalling 27 fits\n",
      "0.7463192730557946 {'max_depth': 5, 'n_estimators': 200}\n",
      "Fitting 3 folds for each of 18 candidates, totalling 54 fits\n",
      "0.10949634425159467 {'learning_rate': 0.1, 'max_depth': 5, 'n_estimators': 200}\n",
      "Fitting 3 folds for each of 18 candidates, totalling 54 fits\n",
      "0.09784785073923392 {'learning_rate': 0.1, 'max_depth': 5, 'n_estimators': 200}\n"
     ]
    }
   ],
   "source": [
    "gridCV_rf.fit(X_train_over_end8, y_train_over_end8)\n",
    "print(gridCV_rf.best_score_, gridCV_rf.best_params_)\n",
    "gridCV_xgb.fit(X_train_over_end8, y_train_over_end8)\n",
    "print(gridCV_xgb.best_score_, gridCV_xgb.best_params_)\n",
    "gridCV_lgbm.fit(X_train_over_end8, y_train_over_end8)\n",
    "print(gridCV_lgbm.best_score_, gridCV_lgbm.best_params_)"
   ]
  },
  {
   "cell_type": "code",
   "execution_count": 93,
   "metadata": {
    "scrolled": true
   },
   "outputs": [
    {
     "name": "stdout",
     "output_type": "stream",
     "text": [
      "RandomForestClassifier(max_depth=5, n_estimators=200, random_state=42) =================\n",
      "오차행렬\n",
      "[[20635  9908]\n",
      " [  865  2743]]\n",
      "정확도 : 0.6845, 정밀도 : 0.2168, 재현율:0.7603\n",
      "[14:16:18] WARNING: C:/Users/Administrator/workspace/xgboost-win64_release_1.5.1/src/learner.cc:1115: Starting in XGBoost 1.3.0, the default evaluation metric used with the objective 'binary:logistic' was changed from 'error' to 'logloss'. Explicitly set eval_metric if you'd like to restore the old behavior.\n",
      "XGBClassifier(base_score=0.5, booster='gbtree', colsample_bylevel=1,\n",
      "              colsample_bynode=1, colsample_bytree=1, enable_categorical=False,\n",
      "              gamma=0, gpu_id=-1, importance_type=None,\n",
      "              interaction_constraints='', learning_rate=0.1, max_delta_step=0,\n",
      "              max_depth=5, min_child_weight=1, missing=nan,\n",
      "              monotone_constraints='()', n_estimators=200, n_jobs=4,\n",
      "              num_parallel_tree=1, predictor='auto', random_state=42,\n",
      "              reg_alpha=0, reg_lambda=1, scale_pos_weight=1, subsample=1,\n",
      "              tree_method='exact', validate_parameters=1, verbosity=None) =================\n",
      "오차행렬\n",
      "[[27875  2668]\n",
      " [ 2200  1408]]\n",
      "정확도 : 0.8575, 정밀도 : 0.3454, 재현율:0.3902\n",
      "LGBMClassifier(max_depth=5, n_estimators=200, random_state=42) =================\n",
      "오차행렬\n",
      "[[27976  2567]\n",
      " [ 2239  1369]]\n",
      "정확도 : 0.8593, 정밀도 : 0.3478, 재현율:0.3794\n"
     ]
    }
   ],
   "source": [
    "rf_end8 = RandomForestClassifier(max_depth=5, n_estimators=200, random_state=42)\n",
    "xgb_end8 = XGBClassifier(learning_rate=0.1, max_depth=5, n_estimators=200, random_state=42)\n",
    "lgbm_end8 = LGBMClassifier(learning_rate=0.1, max_depth=5, n_estimators=200, random_state=42)\n",
    "\n",
    "get_clf_eval(X_train_over_end8, y_train_over_end8, X_test_end8, y_test_end8, rf_end8)\n",
    "get_clf_eval(X_train_over_end8, y_train_over_end8, X_test_end8, y_test_end8, xgb_end8)\n",
    "get_clf_eval(X_train_over_end8, y_train_over_end8, X_test_end8, y_test_end8, lgbm_end8)"
   ]
  },
  {
   "cell_type": "code",
   "execution_count": 100,
   "metadata": {},
   "outputs": [
    {
     "name": "stdout",
     "output_type": "stream",
     "text": [
      "RandomForestClassifier(max_depth=5, n_estimators=400, random_state=42) =================\n",
      "오차행렬\n",
      "[[20652  9891]\n",
      " [  862  2746]]\n",
      "정확도 : 0.6851, 정밀도 : 0.2173, 재현율:0.7611\n"
     ]
    }
   ],
   "source": [
    "rf_end8_rev = RandomForestClassifier(max_depth=5, n_estimators=400, random_state=42)\n",
    "get_clf_eval(X_train_over_end8, y_train_over_end8, X_test_end8, y_test_end8, rf_end8_rev)"
   ]
  },
  {
   "cell_type": "code",
   "execution_count": 98,
   "metadata": {},
   "outputs": [
    {
     "name": "stdout",
     "output_type": "stream",
     "text": [
      "RandomForestClassifier(max_depth=5, n_estimators=600, random_state=42) =================\n",
      "오차행렬\n",
      "[[20619  9924]\n",
      " [  862  2746]]\n",
      "정확도 : 0.6842, 정밀도 : 0.2167, 재현율:0.7611\n"
     ]
    }
   ],
   "source": [
    "rf_end8_rev1 = RandomForestClassifier(max_depth=5, n_estimators=600, random_state=42)\n",
    "get_clf_eval(X_train_over_end8, y_train_over_end8, X_test_end8, y_test_end8, rf_end8_rev1)"
   ]
  },
  {
   "cell_type": "code",
   "execution_count": 96,
   "metadata": {},
   "outputs": [
    {
     "name": "stdout",
     "output_type": "stream",
     "text": [
      "RandomForestClassifier(max_depth=6, n_estimators=400, random_state=42) =================\n",
      "오차행렬\n",
      "[[21470  9073]\n",
      " [  920  2688]]\n",
      "정확도 : 0.7074, 정밀도 : 0.2286, 재현율:0.7450\n"
     ]
    }
   ],
   "source": [
    "rf_end8_rev2 = RandomForestClassifier(max_depth=6, n_estimators=400, random_state=42)\n",
    "get_clf_eval(X_train_over_end8, y_train_over_end8, X_test_end8, y_test_end8, rf_end8_rev2)"
   ]
  },
  {
   "cell_type": "code",
   "execution_count": 95,
   "metadata": {},
   "outputs": [
    {
     "name": "stdout",
     "output_type": "stream",
     "text": [
      "RandomForestClassifier(max_depth=7, n_estimators=400, random_state=42) =================\n",
      "오차행렬\n",
      "[[22241  8302]\n",
      " [  978  2630]]\n",
      "정확도 : 0.7283, 정밀도 : 0.2406, 재현율:0.7289\n"
     ]
    }
   ],
   "source": [
    "rf_end8_rev3 = RandomForestClassifier(max_depth=7, n_estimators=400, random_state=42)\n",
    "get_clf_eval(X_train_over_end8, y_train_over_end8, X_test_end8, y_test_end8, rf_end8_rev3)"
   ]
  },
  {
   "cell_type": "code",
   "execution_count": 99,
   "metadata": {},
   "outputs": [
    {
     "name": "stdout",
     "output_type": "stream",
     "text": [
      "RandomForestClassifier(max_depth=5, random_state=42) =================\n",
      "오차행렬\n",
      "[[20506 10037]\n",
      " [  846  2762]]\n",
      "정확도 : 0.6813, 정밀도 : 0.2158, 재현율:0.7655\n"
     ]
    }
   ],
   "source": [
    "rf_end8_rev4 = RandomForestClassifier(max_depth=5, n_estimators=100, random_state=42)\n",
    "get_clf_eval(X_train_over_end8, y_train_over_end8, X_test_end8, y_test_end8, rf_end8_rev4)"
   ]
  }
 ],
 "metadata": {
  "colab": {
   "collapsed_sections": [],
   "name": "Classification.ipynb",
   "provenance": []
  },
  "gpuClass": "standard",
  "kernelspec": {
   "display_name": "Python 3 (ipykernel)",
   "language": "python",
   "name": "python3"
  },
  "language_info": {
   "codemirror_mode": {
    "name": "ipython",
    "version": 3
   },
   "file_extension": ".py",
   "mimetype": "text/x-python",
   "name": "python",
   "nbconvert_exporter": "python",
   "pygments_lexer": "ipython3",
   "version": "3.9.7"
  }
 },
 "nbformat": 4,
 "nbformat_minor": 1
}
