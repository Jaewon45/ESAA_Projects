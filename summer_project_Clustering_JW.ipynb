{
 "cells": [
  {
   "cell_type": "code",
   "execution_count": 12,
   "metadata": {
    "id": "57v13HpAeO7M"
   },
   "outputs": [],
   "source": [
    "import numpy as np\n",
    "import pandas as pd\n",
    "import matplotlib.pyplot as plt\n",
    "import seaborn as sns\n",
    "import warnings\n",
    "warnings.filterwarnings(\"ignore\") "
   ]
  },
  {
   "cell_type": "code",
   "execution_count": 13,
   "metadata": {
    "id": "roCglzavDQek"
   },
   "outputs": [],
   "source": [
    "from sklearn.cluster import DBSCAN"
   ]
  },
  {
   "cell_type": "code",
   "execution_count": 14,
   "metadata": {
    "id": "5mVELfphfWAu"
   },
   "outputs": [],
   "source": [
    "DF_2022=pd.read_csv(\"C:/Users/Jaewon/ESAA/newdata/DF_2022_KNN.csv\")"
   ]
  },
  {
   "cell_type": "code",
   "execution_count": 15,
   "metadata": {
    "colab": {
     "base_uri": "https://localhost:8080/",
     "height": 671
    },
    "id": "9iq4SaRbFdIE",
    "outputId": "fd95bd6c-f399-46de-9371-6e088d47df88",
    "scrolled": true
   },
   "outputs": [
    {
     "data": {
      "text/html": [
       "<div>\n",
       "<style scoped>\n",
       "    .dataframe tbody tr th:only-of-type {\n",
       "        vertical-align: middle;\n",
       "    }\n",
       "\n",
       "    .dataframe tbody tr th {\n",
       "        vertical-align: top;\n",
       "    }\n",
       "\n",
       "    .dataframe thead th {\n",
       "        text-align: right;\n",
       "    }\n",
       "</style>\n",
       "<table border=\"1\" class=\"dataframe\">\n",
       "  <thead>\n",
       "    <tr style=\"text-align: right;\">\n",
       "      <th></th>\n",
       "      <th>CNTER_NM</th>\n",
       "      <th>AGRDE_FLAG_NM</th>\n",
       "      <th>MESURE_PLACE_FLAG_NM</th>\n",
       "      <th>MESURE_AGE_CO</th>\n",
       "      <th>INPT_FLAG_NM</th>\n",
       "      <th>CRTFC_FLAG_NM</th>\n",
       "      <th>MESURE_DE</th>\n",
       "      <th>SEXDSTN_FLAG_CD</th>\n",
       "      <th>MESURE_IEM_001_VALUE</th>\n",
       "      <th>MESURE_IEM_002_VALUE</th>\n",
       "      <th>MESURE_IEM_003_VALUE</th>\n",
       "      <th>MESURE_IEM_005_VALUE</th>\n",
       "      <th>MESURE_IEM_006_VALUE</th>\n",
       "      <th>MESURE_IEM_012_VALUE</th>\n",
       "      <th>MESURE_IEM_018_VALUE</th>\n",
       "      <th>df_2022[, 16]</th>\n",
       "    </tr>\n",
       "  </thead>\n",
       "  <tbody>\n",
       "    <tr>\n",
       "      <th>0</th>\n",
       "      <td>창원마산회원</td>\n",
       "      <td>청소년</td>\n",
       "      <td>출장</td>\n",
       "      <td>-0.554421</td>\n",
       "      <td>관리자</td>\n",
       "      <td>3등급</td>\n",
       "      <td>-2.589684</td>\n",
       "      <td>M</td>\n",
       "      <td>0.999541</td>\n",
       "      <td>1.603947</td>\n",
       "      <td>-1.041706</td>\n",
       "      <td>-0.449705</td>\n",
       "      <td>0.001093</td>\n",
       "      <td>0.866066</td>\n",
       "      <td>0.455539</td>\n",
       "      <td>준비운동:동적 스트레칭 루틴프로그램,짝 스트레칭  루틴프로그램,걷기 / 본운동:전완...</td>\n",
       "    </tr>\n",
       "    <tr>\n",
       "      <th>1</th>\n",
       "      <td>중구(서울)</td>\n",
       "      <td>성인</td>\n",
       "      <td>일반</td>\n",
       "      <td>2.052567</td>\n",
       "      <td>측정기기</td>\n",
       "      <td>3등급</td>\n",
       "      <td>-2.589684</td>\n",
       "      <td>M</td>\n",
       "      <td>0.782504</td>\n",
       "      <td>0.527154</td>\n",
       "      <td>-0.212044</td>\n",
       "      <td>0.069246</td>\n",
       "      <td>-0.063893</td>\n",
       "      <td>0.511323</td>\n",
       "      <td>0.061435</td>\n",
       "      <td>본운동:달리기,실내 자전거타기,줄넘기,계단 뛰어 오르기</td>\n",
       "    </tr>\n",
       "    <tr>\n",
       "      <th>2</th>\n",
       "      <td>KSPO송파(출장B)</td>\n",
       "      <td>성인</td>\n",
       "      <td>일반</td>\n",
       "      <td>-0.119923</td>\n",
       "      <td>관리자</td>\n",
       "      <td>2등급</td>\n",
       "      <td>-2.589684</td>\n",
       "      <td>M</td>\n",
       "      <td>1.384289</td>\n",
       "      <td>0.559202</td>\n",
       "      <td>-0.998040</td>\n",
       "      <td>1.012793</td>\n",
       "      <td>0.374764</td>\n",
       "      <td>0.412783</td>\n",
       "      <td>-0.051166</td>\n",
       "      <td>본운동:고정식 자전거 타기,스텝박스 오르내리기</td>\n",
       "    </tr>\n",
       "  </tbody>\n",
       "</table>\n",
       "</div>"
      ],
      "text/plain": [
       "      CNTER_NM AGRDE_FLAG_NM MESURE_PLACE_FLAG_NM  MESURE_AGE_CO INPT_FLAG_NM  \\\n",
       "0       창원마산회원           청소년                   출장      -0.554421          관리자   \n",
       "1       중구(서울)            성인                   일반       2.052567         측정기기   \n",
       "2  KSPO송파(출장B)            성인                   일반      -0.119923          관리자   \n",
       "\n",
       "  CRTFC_FLAG_NM  MESURE_DE SEXDSTN_FLAG_CD  MESURE_IEM_001_VALUE  \\\n",
       "0           3등급  -2.589684               M              0.999541   \n",
       "1           3등급  -2.589684               M              0.782504   \n",
       "2           2등급  -2.589684               M              1.384289   \n",
       "\n",
       "   MESURE_IEM_002_VALUE  MESURE_IEM_003_VALUE  MESURE_IEM_005_VALUE  \\\n",
       "0              1.603947             -1.041706             -0.449705   \n",
       "1              0.527154             -0.212044              0.069246   \n",
       "2              0.559202             -0.998040              1.012793   \n",
       "\n",
       "   MESURE_IEM_006_VALUE  MESURE_IEM_012_VALUE  MESURE_IEM_018_VALUE  \\\n",
       "0              0.001093              0.866066              0.455539   \n",
       "1             -0.063893              0.511323              0.061435   \n",
       "2              0.374764              0.412783             -0.051166   \n",
       "\n",
       "                                       df_2022[, 16]  \n",
       "0  준비운동:동적 스트레칭 루틴프로그램,짝 스트레칭  루틴프로그램,걷기 / 본운동:전완...  \n",
       "1                     본운동:달리기,실내 자전거타기,줄넘기,계단 뛰어 오르기  \n",
       "2                          본운동:고정식 자전거 타기,스텝박스 오르내리기  "
      ]
     },
     "execution_count": 15,
     "metadata": {},
     "output_type": "execute_result"
    }
   ],
   "source": [
    "DF_2022.head(3)"
   ]
  },
  {
   "cell_type": "code",
   "execution_count": 16,
   "metadata": {},
   "outputs": [
    {
     "data": {
      "text/plain": [
       "(113834, 16)"
      ]
     },
     "execution_count": 16,
     "metadata": {},
     "output_type": "execute_result"
    }
   ],
   "source": [
    "DF_2022.shape"
   ]
  },
  {
   "cell_type": "code",
   "execution_count": 17,
   "metadata": {
    "id": "cdegEUb3FYkD"
   },
   "outputs": [],
   "source": [
    "col = ['MESURE_AGE_CO','SEXDSTN_FLAG_CD','MESURE_IEM_001_VALUE','MESURE_IEM_002_VALUE','MESURE_IEM_003_VALUE','MESURE_IEM_005_VALUE','MESURE_IEM_006_VALUE','MESURE_IEM_012_VALUE','MESURE_IEM_018_VALUE']\n",
    "DF_2022 = DF_2022[col]"
   ]
  },
  {
   "cell_type": "code",
   "execution_count": 18,
   "metadata": {
    "colab": {
     "base_uri": "https://localhost:8080/",
     "height": 641
    },
    "id": "EZUd6mW-FtUX",
    "outputId": "66e336b6-0897-4951-bd95-280fe9ccb2fe",
    "scrolled": true
   },
   "outputs": [
    {
     "data": {
      "text/html": [
       "<div>\n",
       "<style scoped>\n",
       "    .dataframe tbody tr th:only-of-type {\n",
       "        vertical-align: middle;\n",
       "    }\n",
       "\n",
       "    .dataframe tbody tr th {\n",
       "        vertical-align: top;\n",
       "    }\n",
       "\n",
       "    .dataframe thead th {\n",
       "        text-align: right;\n",
       "    }\n",
       "</style>\n",
       "<table border=\"1\" class=\"dataframe\">\n",
       "  <thead>\n",
       "    <tr style=\"text-align: right;\">\n",
       "      <th></th>\n",
       "      <th>MESURE_AGE_CO</th>\n",
       "      <th>SEXDSTN_FLAG_CD</th>\n",
       "      <th>MESURE_IEM_001_VALUE</th>\n",
       "      <th>MESURE_IEM_002_VALUE</th>\n",
       "      <th>MESURE_IEM_003_VALUE</th>\n",
       "      <th>MESURE_IEM_005_VALUE</th>\n",
       "      <th>MESURE_IEM_006_VALUE</th>\n",
       "      <th>MESURE_IEM_012_VALUE</th>\n",
       "      <th>MESURE_IEM_018_VALUE</th>\n",
       "    </tr>\n",
       "  </thead>\n",
       "  <tbody>\n",
       "    <tr>\n",
       "      <th>0</th>\n",
       "      <td>-0.554421</td>\n",
       "      <td>M</td>\n",
       "      <td>0.999541</td>\n",
       "      <td>1.603947</td>\n",
       "      <td>-1.041706</td>\n",
       "      <td>-0.449705</td>\n",
       "      <td>0.001093</td>\n",
       "      <td>0.866066</td>\n",
       "      <td>0.455539</td>\n",
       "    </tr>\n",
       "    <tr>\n",
       "      <th>1</th>\n",
       "      <td>2.052567</td>\n",
       "      <td>M</td>\n",
       "      <td>0.782504</td>\n",
       "      <td>0.527154</td>\n",
       "      <td>-0.212044</td>\n",
       "      <td>0.069246</td>\n",
       "      <td>-0.063893</td>\n",
       "      <td>0.511323</td>\n",
       "      <td>0.061435</td>\n",
       "    </tr>\n",
       "    <tr>\n",
       "      <th>2</th>\n",
       "      <td>-0.119923</td>\n",
       "      <td>M</td>\n",
       "      <td>1.384289</td>\n",
       "      <td>0.559202</td>\n",
       "      <td>-0.998040</td>\n",
       "      <td>1.012793</td>\n",
       "      <td>0.374764</td>\n",
       "      <td>0.412783</td>\n",
       "      <td>-0.051166</td>\n",
       "    </tr>\n",
       "  </tbody>\n",
       "</table>\n",
       "</div>"
      ],
      "text/plain": [
       "   MESURE_AGE_CO SEXDSTN_FLAG_CD  MESURE_IEM_001_VALUE  MESURE_IEM_002_VALUE  \\\n",
       "0      -0.554421               M              0.999541              1.603947   \n",
       "1       2.052567               M              0.782504              0.527154   \n",
       "2      -0.119923               M              1.384289              0.559202   \n",
       "\n",
       "   MESURE_IEM_003_VALUE  MESURE_IEM_005_VALUE  MESURE_IEM_006_VALUE  \\\n",
       "0             -1.041706             -0.449705              0.001093   \n",
       "1             -0.212044              0.069246             -0.063893   \n",
       "2             -0.998040              1.012793              0.374764   \n",
       "\n",
       "   MESURE_IEM_012_VALUE  MESURE_IEM_018_VALUE  \n",
       "0              0.866066              0.455539  \n",
       "1              0.511323              0.061435  \n",
       "2              0.412783             -0.051166  "
      ]
     },
     "execution_count": 18,
     "metadata": {},
     "output_type": "execute_result"
    }
   ],
   "source": [
    "DF_2022.head(3)"
   ]
  },
  {
   "cell_type": "code",
   "execution_count": 19,
   "metadata": {},
   "outputs": [
    {
     "data": {
      "text/plain": [
       "(113834, 9)"
      ]
     },
     "execution_count": 19,
     "metadata": {},
     "output_type": "execute_result"
    }
   ],
   "source": [
    "DF_2022.shape"
   ]
  },
  {
   "cell_type": "code",
   "execution_count": 20,
   "metadata": {
    "id": "VTGGbbprF27c"
   },
   "outputs": [],
   "source": [
    "DF_2022 = pd.get_dummies(data=DF_2022)"
   ]
  },
  {
   "cell_type": "code",
   "execution_count": 21,
   "metadata": {},
   "outputs": [],
   "source": [
    "DF_dbscan_org = DF_2022.copy()\n",
    "DF_dbscan_result = DF_2022.copy()"
   ]
  },
  {
   "cell_type": "code",
   "execution_count": 22,
   "metadata": {},
   "outputs": [
    {
     "name": "stdout",
     "output_type": "stream",
     "text": [
      " 0    64859\n",
      " 1    43828\n",
      "-1     5026\n",
      " 4       88\n",
      " 5       17\n",
      " 2        8\n",
      " 3        8\n",
      "Name: dbscan_cluster0, dtype: int64\n"
     ]
    }
   ],
   "source": [
    "# dbscan0 : eps = 0.6, min_samples = 8\n",
    "from sklearn.cluster import DBSCAN\n",
    "\n",
    "dbscan0 = DBSCAN(eps = 0.6, min_samples = 8, metric = \"euclidean\")\n",
    "dbscan_labels0 = dbscan0.fit_predict(DF_dbscan_org)\n",
    "DF_dbscan_result['dbscan_cluster0']=dbscan_labels0\n",
    "\n",
    "DF_result0 = DF_dbscan_result['dbscan_cluster0'].value_counts()\n",
    "print(DF_result0)"
   ]
  },
  {
   "cell_type": "code",
   "execution_count": 24,
   "metadata": {},
   "outputs": [
    {
     "name": "stdout",
     "output_type": "stream",
     "text": [
      " 0    67127\n",
      " 1    45469\n",
      "-1     1089\n",
      " 2      149\n",
      "Name: dbscan_cluster1, dtype: int64\n"
     ]
    }
   ],
   "source": [
    "# dbscan1 : eps = 0.8, min_samples = 8\n",
    "from sklearn.cluster import DBSCAN\n",
    "\n",
    "dbscan1 = DBSCAN(eps = 0.8, min_samples = 8, metric = \"euclidean\")\n",
    "dbscan_labels1 = dbscan1.fit_predict(DF_dbscan_org)\n",
    "DF_dbscan_result['dbscan_cluster1']=dbscan_labels1\n",
    "\n",
    "DF_result1 = DF_dbscan_result['dbscan_cluster1'].value_counts()\n",
    "print(DF_result1)"
   ]
  },
  {
   "cell_type": "code",
   "execution_count": 26,
   "metadata": {},
   "outputs": [
    {
     "name": "stdout",
     "output_type": "stream",
     "text": [
      " 0    65238\n",
      " 1    44156\n",
      "-1     4292\n",
      " 7      117\n",
      " 6        7\n",
      " 5        6\n",
      " 8        6\n",
      " 4        5\n",
      " 3        4\n",
      " 2        3\n",
      "Name: dbscan_cluster2, dtype: int64\n"
     ]
    }
   ],
   "source": [
    "# dbscan2 : eps = 0.6, min_samples = 6\n",
    "from sklearn.cluster import DBSCAN\n",
    "\n",
    "dbscan2 = DBSCAN(eps = 0.6, min_samples = 6, metric = \"euclidean\")\n",
    "dbscan_labels2 = dbscan2.fit_predict(DF_dbscan_org)\n",
    "DF_dbscan_result['dbscan_cluster2']=dbscan_labels2\n",
    "\n",
    "DF_result2 = DF_dbscan_result['dbscan_cluster2'].value_counts()\n",
    "print(DF_result2)"
   ]
  },
  {
   "cell_type": "code",
   "execution_count": 27,
   "metadata": {},
   "outputs": [
    {
     "name": "stdout",
     "output_type": "stream",
     "text": [
      " 0    64482\n",
      " 1    43583\n",
      "-1     5677\n",
      " 2       81\n",
      " 3       11\n",
      "Name: dbscan_cluster3, dtype: int64\n"
     ]
    }
   ],
   "source": [
    "# dbscan3 : eps = 0.6, min_samples = 10\n",
    "from sklearn.cluster import DBSCAN\n",
    "\n",
    "dbscan3 = DBSCAN(eps = 0.6, min_samples = 10, metric = \"euclidean\")\n",
    "dbscan_labels3 = dbscan3.fit_predict(DF_dbscan_org)\n",
    "DF_dbscan_result['dbscan_cluster3']=dbscan_labels3\n",
    "\n",
    "DF_result3 = DF_dbscan_result['dbscan_cluster3'].value_counts()\n",
    "print(DF_result3)"
   ]
  },
  {
   "cell_type": "code",
   "execution_count": 28,
   "metadata": {},
   "outputs": [
    {
     "name": "stdout",
     "output_type": "stream",
     "text": [
      " 0    64482\n",
      " 1    43583\n",
      "-1     5677\n",
      " 2       81\n",
      " 3       11\n",
      "Name: dbscan_cluster4, dtype: int64\n"
     ]
    }
   ],
   "source": [
    "# dbscan4 : eps = 0.8, min_samples = 6\n",
    "from sklearn.cluster import DBSCAN\n",
    "\n",
    "dbscan4 = DBSCAN(eps = 0.6, min_samples = 10, metric = \"euclidean\")\n",
    "dbscan_labels4 = dbscan4.fit_predict(DF_dbscan_org)\n",
    "DF_dbscan_result['dbscan_cluster4']=dbscan_labels4\n",
    "\n",
    "DF_result4 = DF_dbscan_result['dbscan_cluster4'].value_counts()\n",
    "print(DF_result4)"
   ]
  },
  {
   "cell_type": "code",
   "execution_count": 29,
   "metadata": {},
   "outputs": [
    {
     "name": "stdout",
     "output_type": "stream",
     "text": [
      " 0    66532\n",
      " 1    45039\n",
      "-1     2117\n",
      " 4      133\n",
      " 3        5\n",
      " 2        4\n",
      " 5        4\n",
      "Name: dbscan_cluster5, dtype: int64\n"
     ]
    }
   ],
   "source": [
    "# dbscan5 : eps = 0.7, min_samples = 8\n",
    "from sklearn.cluster import DBSCAN\n",
    "\n",
    "dbscan5 = DBSCAN(eps = 0.7, min_samples = 8, metric = \"euclidean\")\n",
    "dbscan_labels5 = dbscan5.fit_predict(DF_dbscan_org)\n",
    "DF_dbscan_result['dbscan_cluster5']=dbscan_labels5\n",
    "\n",
    "DF_result5 = DF_dbscan_result['dbscan_cluster5'].value_counts()\n",
    "print(DF_result5)"
   ]
  },
  {
   "cell_type": "code",
   "execution_count": 32,
   "metadata": {
    "scrolled": true
   },
   "outputs": [
    {
     "name": "stdout",
     "output_type": "stream",
     "text": [
      " 0    66601\n",
      " 1    45081\n",
      "-1     2011\n",
      " 3      137\n",
      " 2        4\n",
      "Name: dbscan_cluster6, dtype: int64\n"
     ]
    }
   ],
   "source": [
    "# dbscan6 : eps = 0.7, min_samples = 7\n",
    "from sklearn.cluster import DBSCAN\n",
    "\n",
    "dbscan6 = DBSCAN(eps = 0.7, min_samples = 7, metric = \"euclidean\")\n",
    "dbscan_labels6 = dbscan6.fit_predict(DF_dbscan_org)\n",
    "DF_dbscan_result['dbscan_cluster6']=dbscan_labels6\n",
    "\n",
    "DF_result6 = DF_dbscan_result['dbscan_cluster6'].value_counts()\n",
    "print(DF_result6)"
   ]
  },
  {
   "cell_type": "code",
   "execution_count": 11,
   "metadata": {},
   "outputs": [
    {
     "ename": "NameError",
     "evalue": "name 'DF_result6' is not defined",
     "output_type": "error",
     "traceback": [
      "\u001b[1;31m---------------------------------------------------------------------------\u001b[0m",
      "\u001b[1;31mNameError\u001b[0m                                 Traceback (most recent call last)",
      "\u001b[1;32m~\\AppData\\Local\\Programs\\Python\\PYTHON~1\\Scripts/ipykernel_10108/566012653.py\u001b[0m in \u001b[0;36m<module>\u001b[1;34m\u001b[0m\n\u001b[1;32m----> 1\u001b[1;33m \u001b[0mlen\u001b[0m\u001b[1;33m(\u001b[0m\u001b[0mDF_result6\u001b[0m\u001b[1;33m)\u001b[0m\u001b[1;33m\u001b[0m\u001b[1;33m\u001b[0m\u001b[0m\n\u001b[0m",
      "\u001b[1;31mNameError\u001b[0m: name 'DF_result6' is not defined"
     ]
    }
   ],
   "source": [
    "len(DF_result6)"
   ]
  },
  {
   "cell_type": "code",
   "execution_count": 33,
   "metadata": {
    "scrolled": true
   },
   "outputs": [
    {
     "data": {
      "text/html": [
       "<div>\n",
       "<style scoped>\n",
       "    .dataframe tbody tr th:only-of-type {\n",
       "        vertical-align: middle;\n",
       "    }\n",
       "\n",
       "    .dataframe tbody tr th {\n",
       "        vertical-align: top;\n",
       "    }\n",
       "\n",
       "    .dataframe thead th {\n",
       "        text-align: right;\n",
       "    }\n",
       "</style>\n",
       "<table border=\"1\" class=\"dataframe\">\n",
       "  <thead>\n",
       "    <tr style=\"text-align: right;\">\n",
       "      <th></th>\n",
       "      <th>MESURE_AGE_CO</th>\n",
       "      <th>MESURE_IEM_001_VALUE</th>\n",
       "      <th>MESURE_IEM_002_VALUE</th>\n",
       "      <th>MESURE_IEM_003_VALUE</th>\n",
       "      <th>MESURE_IEM_005_VALUE</th>\n",
       "      <th>MESURE_IEM_006_VALUE</th>\n",
       "      <th>MESURE_IEM_012_VALUE</th>\n",
       "      <th>MESURE_IEM_018_VALUE</th>\n",
       "      <th>SEXDSTN_FLAG_CD_F</th>\n",
       "      <th>SEXDSTN_FLAG_CD_M</th>\n",
       "      <th>dbscan_cluster0</th>\n",
       "      <th>dbscan_cluster1</th>\n",
       "      <th>dbscan_cluster2</th>\n",
       "      <th>dbscan_cluster3</th>\n",
       "      <th>dbscan_cluster4</th>\n",
       "      <th>dbscan_cluster5</th>\n",
       "      <th>dbscan_cluster6</th>\n",
       "    </tr>\n",
       "  </thead>\n",
       "  <tbody>\n",
       "    <tr>\n",
       "      <th>0</th>\n",
       "      <td>-0.554421</td>\n",
       "      <td>0.999541</td>\n",
       "      <td>1.603947</td>\n",
       "      <td>-1.041706</td>\n",
       "      <td>-0.449705</td>\n",
       "      <td>0.001093</td>\n",
       "      <td>0.866066</td>\n",
       "      <td>0.455539</td>\n",
       "      <td>0</td>\n",
       "      <td>1</td>\n",
       "      <td>0</td>\n",
       "      <td>0</td>\n",
       "      <td>0</td>\n",
       "      <td>0</td>\n",
       "      <td>0</td>\n",
       "      <td>0</td>\n",
       "      <td>0</td>\n",
       "    </tr>\n",
       "    <tr>\n",
       "      <th>1</th>\n",
       "      <td>2.052567</td>\n",
       "      <td>0.782504</td>\n",
       "      <td>0.527154</td>\n",
       "      <td>-0.212044</td>\n",
       "      <td>0.069246</td>\n",
       "      <td>-0.063893</td>\n",
       "      <td>0.511323</td>\n",
       "      <td>0.061435</td>\n",
       "      <td>0</td>\n",
       "      <td>1</td>\n",
       "      <td>0</td>\n",
       "      <td>0</td>\n",
       "      <td>0</td>\n",
       "      <td>0</td>\n",
       "      <td>0</td>\n",
       "      <td>0</td>\n",
       "      <td>0</td>\n",
       "    </tr>\n",
       "    <tr>\n",
       "      <th>2</th>\n",
       "      <td>-0.119923</td>\n",
       "      <td>1.384289</td>\n",
       "      <td>0.559202</td>\n",
       "      <td>-0.998040</td>\n",
       "      <td>1.012793</td>\n",
       "      <td>0.374764</td>\n",
       "      <td>0.412783</td>\n",
       "      <td>-0.051166</td>\n",
       "      <td>0</td>\n",
       "      <td>1</td>\n",
       "      <td>0</td>\n",
       "      <td>0</td>\n",
       "      <td>0</td>\n",
       "      <td>0</td>\n",
       "      <td>0</td>\n",
       "      <td>0</td>\n",
       "      <td>0</td>\n",
       "    </tr>\n",
       "    <tr>\n",
       "      <th>3</th>\n",
       "      <td>2.052567</td>\n",
       "      <td>0.111662</td>\n",
       "      <td>0.693801</td>\n",
       "      <td>-0.229510</td>\n",
       "      <td>0.257956</td>\n",
       "      <td>0.179805</td>\n",
       "      <td>-0.602177</td>\n",
       "      <td>0.302723</td>\n",
       "      <td>0</td>\n",
       "      <td>1</td>\n",
       "      <td>0</td>\n",
       "      <td>0</td>\n",
       "      <td>0</td>\n",
       "      <td>0</td>\n",
       "      <td>0</td>\n",
       "      <td>0</td>\n",
       "      <td>0</td>\n",
       "    </tr>\n",
       "    <tr>\n",
       "      <th>4</th>\n",
       "      <td>2.378441</td>\n",
       "      <td>-1.052446</td>\n",
       "      <td>-0.408630</td>\n",
       "      <td>0.905818</td>\n",
       "      <td>-0.638414</td>\n",
       "      <td>-0.063893</td>\n",
       "      <td>0.531031</td>\n",
       "      <td>0.069478</td>\n",
       "      <td>1</td>\n",
       "      <td>0</td>\n",
       "      <td>1</td>\n",
       "      <td>1</td>\n",
       "      <td>1</td>\n",
       "      <td>1</td>\n",
       "      <td>1</td>\n",
       "      <td>1</td>\n",
       "      <td>1</td>\n",
       "    </tr>\n",
       "  </tbody>\n",
       "</table>\n",
       "</div>"
      ],
      "text/plain": [
       "   MESURE_AGE_CO  MESURE_IEM_001_VALUE  MESURE_IEM_002_VALUE  \\\n",
       "0      -0.554421              0.999541              1.603947   \n",
       "1       2.052567              0.782504              0.527154   \n",
       "2      -0.119923              1.384289              0.559202   \n",
       "3       2.052567              0.111662              0.693801   \n",
       "4       2.378441             -1.052446             -0.408630   \n",
       "\n",
       "   MESURE_IEM_003_VALUE  MESURE_IEM_005_VALUE  MESURE_IEM_006_VALUE  \\\n",
       "0             -1.041706             -0.449705              0.001093   \n",
       "1             -0.212044              0.069246             -0.063893   \n",
       "2             -0.998040              1.012793              0.374764   \n",
       "3             -0.229510              0.257956              0.179805   \n",
       "4              0.905818             -0.638414             -0.063893   \n",
       "\n",
       "   MESURE_IEM_012_VALUE  MESURE_IEM_018_VALUE  SEXDSTN_FLAG_CD_F  \\\n",
       "0              0.866066              0.455539                  0   \n",
       "1              0.511323              0.061435                  0   \n",
       "2              0.412783             -0.051166                  0   \n",
       "3             -0.602177              0.302723                  0   \n",
       "4              0.531031              0.069478                  1   \n",
       "\n",
       "   SEXDSTN_FLAG_CD_M  dbscan_cluster0  dbscan_cluster1  dbscan_cluster2  \\\n",
       "0                  1                0                0                0   \n",
       "1                  1                0                0                0   \n",
       "2                  1                0                0                0   \n",
       "3                  1                0                0                0   \n",
       "4                  0                1                1                1   \n",
       "\n",
       "   dbscan_cluster3  dbscan_cluster4  dbscan_cluster5  dbscan_cluster6  \n",
       "0                0                0                0                0  \n",
       "1                0                0                0                0  \n",
       "2                0                0                0                0  \n",
       "3                0                0                0                0  \n",
       "4                1                1                1                1  "
      ]
     },
     "execution_count": 33,
     "metadata": {},
     "output_type": "execute_result"
    }
   ],
   "source": [
    "DF_dbscan_result.head()"
   ]
  },
  {
   "cell_type": "code",
   "execution_count": 34,
   "metadata": {},
   "outputs": [],
   "source": [
    "DF_dbscan_result.to_csv(\"DF_dbscan_result.csv\")"
   ]
  },
  {
   "cell_type": "code",
   "execution_count": 43,
   "metadata": {},
   "outputs": [],
   "source": [
    "# 군집 시각화를 위한 함수\n",
    "def visualize_cluster_plot(clusterobj, dataframe, label_name, iscenter=True):\n",
    "    \n",
    "    # 군집별 중심 위치: K-Means, Mean Shift 등\n",
    "    if iscenter:\n",
    "        centers = clusterobj.cluster_centers_\n",
    "    \n",
    "    # Cluster 값 종류\n",
    "    unique_labels = np.unique(dataframe[label_name].values)\n",
    "    \n",
    "    markers=['o', 's', '^', 'x', '*', '8', 'p', 'h', '+', '1', '2', '3','4','5','6']\n",
    "    isNoise=False\n",
    "\n",
    "    for label in unique_labels:\n",
    "        # 군집별 데이터 프레임\n",
    "        label_cluster = dataframe[dataframe[label_name]==label]\n",
    "        \n",
    "        if label == -1:\n",
    "            cluster_legend = 'Noise'\n",
    "            isNoise=True\n",
    "        else:\n",
    "            cluster_legend = 'Cluster '+str(label)\n",
    "        \n",
    "        # 각 군집 시각화\n",
    "        plt.scatter(x=label_cluster['ftr1'], y=label_cluster['ftr2'], s=70,\n",
    "                    edgecolor='k', marker=markers[label], label=cluster_legend)\n",
    "        \n",
    "        # 군집별 중심 위치 시각화\n",
    "        if iscenter:\n",
    "            center_x_y = centers[label]\n",
    "            plt.scatter(x=center_x_y[0], y=center_x_y[1], s=250, color='white',\n",
    "                        alpha=0.9, edgecolor='k', marker=markers[label])\n",
    "            plt.scatter(x=center_x_y[0], y=center_x_y[1], s=70, color='k',\\\n",
    "                        edgecolor='k', marker='$%d$' % label)\n",
    "            \n",
    "    if isNoise:\n",
    "        legend_loc='upper center'\n",
    "    else: \n",
    "        legend_loc='upper right'\n",
    "    \n",
    "    plt.legend(loc=legend_loc)\n",
    "    plt.show()"
   ]
  },
  {
   "cell_type": "code",
   "execution_count": 34,
   "metadata": {},
   "outputs": [],
   "source": [
    "# DBSCAN 군집화 데이터 세트를 PCA를 이용해 2개의 피처로 압축 변환 후 시각화\n",
    "from sklearn.decomposition import PCA\n",
    "\n",
    "pca = PCA(n_components=2, random_state=42)\n",
    "pca_transformed = pca.fit_transform(DF_org)\n",
    "\n",
    "# visualize_cluster_plot()함수는 ftr1, ftr2 칼럼을 좌표에 표현하므로 PCA 변환값을 해당 칼럼으로 생성\n",
    "DF_result['ftr1'] = pca_transformed[:,0]\n",
    "DF_result['ftr2'] = pca_transformed[:,1]"
   ]
  },
  {
   "cell_type": "code",
   "execution_count": 39,
   "metadata": {},
   "outputs": [
    {
     "data": {
      "image/png": "[encoded data removed]",
      "text/plain": [
       "<Figure size 432x288 with 1 Axes>"
      ]
     },
     "metadata": {
      "needs_background": "light"
     },
     "output_type": "display_data"
    }
   ],
   "source": [
    "visualize_cluster_plot(dbscan0, DF_result, \"dbscan_cluster0\", iscenter=False)"
   ]
  },
  {
   "cell_type": "code",
   "execution_count": 40,
   "metadata": {},
   "outputs": [
    {
     "data": {
      "image/png": "[encoded data removed]",
      "text/plain": [
       "<Figure size 432x288 with 1 Axes>"
      ]
     },
     "metadata": {
      "needs_background": "light"
     },
     "output_type": "display_data"
    }
   ],
   "source": [
    "visualize_cluster_plot(dbscan1, DF_result, \"dbscan_cluster1\", iscenter=False)"
   ]
  },
  {
   "cell_type": "code",
   "execution_count": 44,
   "metadata": {},
   "outputs": [
    {
     "data": {
      "image/png": "[encoded data removed]",
      "text/plain": [
       "<Figure size 432x288 with 1 Axes>"
      ]
     },
     "metadata": {
      "needs_background": "light"
     },
     "output_type": "display_data"
    }
   ],
   "source": [
    "visualize_cluster_plot(dbscan2, DF_result, \"dbscan_cluster2\", iscenter=False)"
   ]
  },
  {
   "cell_type": "code",
   "execution_count": 42,
   "metadata": {},
   "outputs": [
    {
     "data": {
      "image/png": "[encoded data removed]",
      "text/plain": [
       "<Figure size 432x288 with 1 Axes>"
      ]
     },
     "metadata": {
      "needs_background": "light"
     },
     "output_type": "display_data"
    }
   ],
   "source": [
    "visualize_cluster_plot(dbscan3, DF_result, \"dbscan_cluster3\", iscenter=False)"
   ]
  },
  {
   "cell_type": "code",
   "execution_count": 45,
   "metadata": {
    "scrolled": true
   },
   "outputs": [
    {
     "data": {
      "text/html": [
       "<div>\n",
       "<style scoped>\n",
       "    .dataframe tbody tr th:only-of-type {\n",
       "        vertical-align: middle;\n",
       "    }\n",
       "\n",
       "    .dataframe tbody tr th {\n",
       "        vertical-align: top;\n",
       "    }\n",
       "\n",
       "    .dataframe thead th {\n",
       "        text-align: right;\n",
       "    }\n",
       "</style>\n",
       "<table border=\"1\" class=\"dataframe\">\n",
       "  <thead>\n",
       "    <tr style=\"text-align: right;\">\n",
       "      <th></th>\n",
       "      <th>MESURE_AGE_CO</th>\n",
       "      <th>MESURE_IEM_001_VALUE</th>\n",
       "      <th>MESURE_IEM_002_VALUE</th>\n",
       "      <th>MESURE_IEM_003_VALUE</th>\n",
       "      <th>MESURE_IEM_005_VALUE</th>\n",
       "      <th>MESURE_IEM_006_VALUE</th>\n",
       "      <th>MESURE_IEM_012_VALUE</th>\n",
       "      <th>MESURE_IEM_018_VALUE</th>\n",
       "      <th>SEXDSTN_FLAG_CD_F</th>\n",
       "      <th>SEXDSTN_FLAG_CD_M</th>\n",
       "      <th>dbscan_cluster0</th>\n",
       "      <th>dbscan_cluster1</th>\n",
       "      <th>dbscan_cluster2</th>\n",
       "      <th>dbscan_cluster3</th>\n",
       "      <th>ftr1</th>\n",
       "      <th>ftr2</th>\n",
       "    </tr>\n",
       "  </thead>\n",
       "  <tbody>\n",
       "    <tr>\n",
       "      <th>0</th>\n",
       "      <td>2.168038</td>\n",
       "      <td>-0.874530</td>\n",
       "      <td>-1.481765</td>\n",
       "      <td>-0.616090</td>\n",
       "      <td>-0.546832</td>\n",
       "      <td>-0.410659</td>\n",
       "      <td>1.087022</td>\n",
       "      <td>-0.339119</td>\n",
       "      <td>1</td>\n",
       "      <td>0</td>\n",
       "      <td>0</td>\n",
       "      <td>0</td>\n",
       "      <td>0</td>\n",
       "      <td>0</td>\n",
       "      <td>2.055091</td>\n",
       "      <td>0.337125</td>\n",
       "    </tr>\n",
       "    <tr>\n",
       "      <th>1</th>\n",
       "      <td>1.798025</td>\n",
       "      <td>-0.884862</td>\n",
       "      <td>-1.124510</td>\n",
       "      <td>0.262114</td>\n",
       "      <td>0.395332</td>\n",
       "      <td>0.310498</td>\n",
       "      <td>1.213650</td>\n",
       "      <td>-0.222558</td>\n",
       "      <td>1</td>\n",
       "      <td>0</td>\n",
       "      <td>0</td>\n",
       "      <td>0</td>\n",
       "      <td>0</td>\n",
       "      <td>0</td>\n",
       "      <td>1.789589</td>\n",
       "      <td>1.315358</td>\n",
       "    </tr>\n",
       "    <tr>\n",
       "      <th>2</th>\n",
       "      <td>0.106533</td>\n",
       "      <td>-0.595565</td>\n",
       "      <td>-0.383038</td>\n",
       "      <td>0.308745</td>\n",
       "      <td>0.485062</td>\n",
       "      <td>0.240709</td>\n",
       "      <td>0.073999</td>\n",
       "      <td>-0.022738</td>\n",
       "      <td>1</td>\n",
       "      <td>0</td>\n",
       "      <td>0</td>\n",
       "      <td>0</td>\n",
       "      <td>0</td>\n",
       "      <td>0</td>\n",
       "      <td>0.892889</td>\n",
       "      <td>0.589400</td>\n",
       "    </tr>\n",
       "    <tr>\n",
       "      <th>3</th>\n",
       "      <td>2.273757</td>\n",
       "      <td>-1.721757</td>\n",
       "      <td>-0.443704</td>\n",
       "      <td>1.326840</td>\n",
       "      <td>0.081277</td>\n",
       "      <td>0.077867</td>\n",
       "      <td>0.132443</td>\n",
       "      <td>0.149328</td>\n",
       "      <td>1</td>\n",
       "      <td>0</td>\n",
       "      <td>0</td>\n",
       "      <td>0</td>\n",
       "      <td>0</td>\n",
       "      <td>0</td>\n",
       "      <td>1.954210</td>\n",
       "      <td>2.279858</td>\n",
       "    </tr>\n",
       "    <tr>\n",
       "      <th>4</th>\n",
       "      <td>2.062320</td>\n",
       "      <td>-0.585233</td>\n",
       "      <td>-0.308890</td>\n",
       "      <td>1.249123</td>\n",
       "      <td>0.754252</td>\n",
       "      <td>0.240709</td>\n",
       "      <td>0.405180</td>\n",
       "      <td>-0.000536</td>\n",
       "      <td>1</td>\n",
       "      <td>0</td>\n",
       "      <td>0</td>\n",
       "      <td>0</td>\n",
       "      <td>0</td>\n",
       "      <td>0</td>\n",
       "      <td>1.092751</td>\n",
       "      <td>2.207857</td>\n",
       "    </tr>\n",
       "  </tbody>\n",
       "</table>\n",
       "</div>"
      ],
      "text/plain": [
       "   MESURE_AGE_CO  MESURE_IEM_001_VALUE  MESURE_IEM_002_VALUE  \\\n",
       "0       2.168038             -0.874530             -1.481765   \n",
       "1       1.798025             -0.884862             -1.124510   \n",
       "2       0.106533             -0.595565             -0.383038   \n",
       "3       2.273757             -1.721757             -0.443704   \n",
       "4       2.062320             -0.585233             -0.308890   \n",
       "\n",
       "   MESURE_IEM_003_VALUE  MESURE_IEM_005_VALUE  MESURE_IEM_006_VALUE  \\\n",
       "0             -0.616090             -0.546832             -0.410659   \n",
       "1              0.262114              0.395332              0.310498   \n",
       "2              0.308745              0.485062              0.240709   \n",
       "3              1.326840              0.081277              0.077867   \n",
       "4              1.249123              0.754252              0.240709   \n",
       "\n",
       "   MESURE_IEM_012_VALUE  MESURE_IEM_018_VALUE  SEXDSTN_FLAG_CD_F  \\\n",
       "0              1.087022             -0.339119                  1   \n",
       "1              1.213650             -0.222558                  1   \n",
       "2              0.073999             -0.022738                  1   \n",
       "3              0.132443              0.149328                  1   \n",
       "4              0.405180             -0.000536                  1   \n",
       "\n",
       "   SEXDSTN_FLAG_CD_M  dbscan_cluster0  dbscan_cluster1  dbscan_cluster2  \\\n",
       "0                  0                0                0                0   \n",
       "1                  0                0                0                0   \n",
       "2                  0                0                0                0   \n",
       "3                  0                0                0                0   \n",
       "4                  0                0                0                0   \n",
       "\n",
       "   dbscan_cluster3      ftr1      ftr2  \n",
       "0                0  2.055091  0.337125  \n",
       "1                0  1.789589  1.315358  \n",
       "2                0  0.892889  0.589400  \n",
       "3                0  1.954210  2.279858  \n",
       "4                0  1.092751  2.207857  "
      ]
     },
     "execution_count": 45,
     "metadata": {},
     "output_type": "execute_result"
    }
   ],
   "source": [
    "DF_result.head()"
   ]
  },
  {
   "cell_type": "code",
   "execution_count": 64,
   "metadata": {},
   "outputs": [],
   "source": [
    "from sklearn.metrics import silhouette_samples, silhouette_score\n",
    "\n",
    "# 모든 개별 데이터에 실루엣 계수 값을 구함\n",
    "score_samples = silhouette_samples(DF_org, DF_result['dbscan_cluster0'])"
   ]
  },
  {
   "cell_type": "code",
   "execution_count": 65,
   "metadata": {
    "scrolled": true
   },
   "outputs": [
    {
     "name": "stdout",
     "output_type": "stream",
     "text": [
      "Silhouette Analysis Score:0.161\n"
     ]
    },
    {
     "data": {
      "text/plain": [
       "dbscan_cluster0\n",
       "-1   -0.425432\n",
       " 0    0.212258\n",
       " 1    0.147855\n",
       " 2    0.824810\n",
       " 3    0.834486\n",
       " 4    0.736159\n",
       "Name: silhouette_coeff_cluster0, dtype: float64"
      ]
     },
     "execution_count": 65,
     "metadata": {},
     "output_type": "execute_result"
    }
   ],
   "source": [
    "# 실루엣 계수 칼럼 추가\n",
    "DF_result['silhouette_coeff_cluster0']=score_samples\n",
    "# 모든 데이터의 평균 실루엣 계수 값\n",
    "average_score = silhouette_score(DF_org, DF_result['dbscan_cluster0'])\n",
    "print('Silhouette Analysis Score:{0:.3f}'.format(average_score))\n",
    "# 군집별 평균 실루엣 계수 값\n",
    "DF_result.groupby('dbscan_cluster0')['silhouette_coeff_cluster0'].mean()"
   ]
  },
  {
   "cell_type": "code",
   "execution_count": 70,
   "metadata": {},
   "outputs": [],
   "source": [
    "# 모든 개별 데이터에 실루엣 계수 값을 구함\n",
    "score_samples1 = silhouette_samples(DF_org, DF_result['dbscan_cluster1'])"
   ]
  },
  {
   "cell_type": "code",
   "execution_count": 71,
   "metadata": {},
   "outputs": [
    {
     "name": "stdout",
     "output_type": "stream",
     "text": [
      "Silhouette Analysis Score:0.161\n"
     ]
    },
    {
     "data": {
      "text/plain": [
       "dbscan_cluster1\n",
       "-1   -0.532579\n",
       " 0    0.286554\n",
       " 1    0.223307\n",
       " 2    0.693279\n",
       "Name: silhouette_coeff_cluster1, dtype: float64"
      ]
     },
     "execution_count": 71,
     "metadata": {},
     "output_type": "execute_result"
    }
   ],
   "source": [
    "# 실루엣 계수 칼럼 추가\n",
    "DF_result['silhouette_coeff_cluster1']=score_samples1\n",
    "# 모든 데이터의 평균 실루엣 계수 값\n",
    "average_score1 = silhouette_score(DF_org, DF_result['dbscan_cluster1'])\n",
    "print('Silhouette Analysis Score:{0:.3f}'.format(average_score))\n",
    "# 군집별 평균 실루엣 계수 값\n",
    "DF_result.groupby('dbscan_cluster1')['silhouette_coeff_cluster1'].mean()"
   ]
  },
  {
   "cell_type": "code",
   "execution_count": 72,
   "metadata": {},
   "outputs": [
    {
     "name": "stdout",
     "output_type": "stream",
     "text": [
      "Silhouette Analysis Score:0.244\n"
     ]
    }
   ],
   "source": [
    "print('Silhouette Analysis Score:{0:.3f}'.format(average_score1))"
   ]
  },
  {
   "cell_type": "code",
   "execution_count": null,
   "metadata": {},
   "outputs": [],
   "source": [
    "# 모든 개별 데이터에 실루엣 계수 값을 구함\n",
    "score_samples2 = silhouette_samples(DF_org, DF_result['dbscan_cluster2'])"
   ]
  },
  {
   "cell_type": "code",
   "execution_count": null,
   "metadata": {},
   "outputs": [],
   "source": [
    "# 실루엣 계수 칼럼 추가\n",
    "DF_result['silhouette_coeff_cluster2']=score_samples2\n",
    "# 모든 데이터의 평균 실루엣 계수 값\n",
    "average_score2 = silhouette_score(DF_org, DF_result['dbscan_cluster2'])\n",
    "print('Silhouette Analysis Score:{0:.3f}'.format(average_score2))\n",
    "# 군집별 평균 실루엣 계수 값\n",
    "DF_result.groupby('dbscan_cluster2')['silhouette_coeff_cluster2'].mean()"
   ]
  },
  {
   "cell_type": "code",
   "execution_count": 58,
   "metadata": {},
   "outputs": [],
   "source": [
    "def complete_diameter_distance(X):\n",
    "    res = []\n",
    "    for i, j in combinations(range(X.shape[0]),2):\n",
    "        a_i = X[i, :]\n",
    "        a_j = X[j, :]\n",
    "        res.append(np.linalg.norm(a_i-a_j))\n",
    " \n",
    "    return np.max(res)\n",
    "\n",
    "def average_diameter_distance(X):\n",
    "    res = []\n",
    "    for i, j in combinations(range(X.shape[0]),2):\n",
    "        a_i = X[i, :]\n",
    "        a_j = X[j, :]\n",
    "        res.append(np.linalg.norm(a_i-a_j))\n",
    " \n",
    "    return np.mean(res)\n",
    "\n",
    "def centroid_diameter_distance(X):\n",
    "    center = np.mean(X, axis=0)\n",
    "    res = 2*np.mean([np.linalg.norm(x-center) for x in X])\n",
    " \n",
    "    return res\n",
    "\n",
    "def centroid_linkage_distance(X1, X2):\n",
    "    center1 = np.mean(X1, axis=0)\n",
    "    center2 = np.mean(X2, axis=0)\n",
    "    return np.linalg.norm(center1-center2)\n",
    "\n",
    "def single_linkage_distance(X1, X2):\n",
    "    res = []\n",
    "    for x1 in X1:\n",
    "        for x2 in X2:\n",
    "            res.append(np.linalg.norm(x1-x2))\n",
    "    return np.min(res)\n",
    "\n",
    "def complete_linkage_distance(X1, X2):\n",
    "    res = []\n",
    "    for x1 in X1:\n",
    "        for x2 in X2:\n",
    "            res.append(np.linalg.norm(x1-x2))\n",
    "    return np.max(res)\n",
    "\n",
    "def average_linkage_distance(X1, X2):\n",
    "    res = []\n",
    "    for x1 in X1:\n",
    "        for x2 in X2:\n",
    "            res.append(np.linalg.norm(x1-x2))\n",
    "    return np.mean(res)\n",
    "\n",
    "def centroid_linkage_distance(X1, X2):\n",
    "    center1 = np.mean(X1, axis=0)\n",
    "    center2 = np.mean(X2, axis=0)\n",
    "    return np.linalg.norm(center1-center2)\n"
   ]
  },
  {
   "cell_type": "code",
   "execution_count": 59,
   "metadata": {},
   "outputs": [],
   "source": [
    "def get_Dunn_index(X, labels, intra_cluster_distance_type, \n",
    "                   inter_cluster_distance_type):\n",
    " \n",
    "    intra_cdt_dict = {\n",
    "        'cmpl_dd':complete_diameter_distance,\n",
    "        'avdd' : average_diameter_distance,\n",
    "        'cent_dd' : centroid_diameter_distance\n",
    "    }\n",
    "    inter_cdt_dict = {\n",
    "        'sld' : single_linkage_distance,\n",
    "        'cmpl_ld' :complete_linkage_distance,\n",
    "        'avld': average_linkage_distance,\n",
    "        'cent_ld' : centroid_linkage_distance, \n",
    "        'av_cent_ld' : average_of_centroids_linkage_distance\n",
    "    }\n",
    "    # intra cluster distance\n",
    "    intra_cluster_distance = intra_cdt_dict[intra_cluster_distance_type] \n",
    " \n",
    "    # inter cluster distance\n",
    "    inter_cluster_distance = inter_cdt_dict[inter_cluster_distance_type]\n",
    " \n",
    "    # get minimum value of inter_cluster_distance\n",
    "    res1 = []\n",
    "    for i, j in combinations(np.unique(labels),2):\n",
    "        X1 = X[np.where(labels==i)[0], :]\n",
    "        X2 = X[np.where(labels==j)[0], :]\n",
    "        res1.append(inter_cluster_distance(X1, X2))\n",
    "    min_inter_cd = np.min(res1)\n",
    " \n",
    "    # get maximum value of intra_cluser_distance\n",
    " \n",
    "    res2 = []\n",
    "    for label in np.unique(labels):\n",
    "        X_target = X[np.where(labels==label)[0], :]\n",
    "        if X_target.shape[0] >= 2:\n",
    "            res2.append(intra_cluster_distance(X_target))\n",
    "        else:\n",
    "            res2.append(0)\n",
    "    max_intra_cd = np.max(res2)\n",
    " \n",
    "    Dunn_idx = min_inter_cd/max_intra_cd\n",
    "    return Dunn_idx"
   ]
  },
  {
   "cell_type": "code",
   "execution_count": 63,
   "metadata": {},
   "outputs": [
    {
     "ename": "NameError",
     "evalue": "name 'average_of_centroids_linkage_distance' is not defined",
     "output_type": "error",
     "traceback": [
      "\u001b[1;31m---------------------------------------------------------------------------\u001b[0m",
      "\u001b[1;31mNameError\u001b[0m                                 Traceback (most recent call last)",
      "\u001b[1;32m~\\AppData\\Local\\Programs\\Python\\PYTHON~1\\Scripts/ipykernel_11904/1989307440.py\u001b[0m in \u001b[0;36m<module>\u001b[1;34m\u001b[0m\n\u001b[0;32m      1\u001b[0m \u001b[0mintra_cluster_distance_type\u001b[0m \u001b[1;33m=\u001b[0m \u001b[1;34m'cmpl_dd'\u001b[0m\u001b[1;33m\u001b[0m\u001b[1;33m\u001b[0m\u001b[0m\n\u001b[0;32m      2\u001b[0m \u001b[0minter_cluster_distance_type\u001b[0m \u001b[1;33m=\u001b[0m \u001b[1;34m'av_cent_ld'\u001b[0m\u001b[1;33m\u001b[0m\u001b[1;33m\u001b[0m\u001b[0m\n\u001b[1;32m----> 3\u001b[1;33m \u001b[0mget_Dunn_index\u001b[0m\u001b[1;33m(\u001b[0m\u001b[0mDF_org\u001b[0m\u001b[1;33m,\u001b[0m \u001b[0mdbscan_labels0\u001b[0m\u001b[1;33m,\u001b[0m\u001b[0minter_cluster_distance_type\u001b[0m\u001b[1;33m,\u001b[0m \u001b[0mintra_cluster_distance_type\u001b[0m\u001b[1;33m)\u001b[0m\u001b[1;33m\u001b[0m\u001b[1;33m\u001b[0m\u001b[0m\n\u001b[0m",
      "\u001b[1;32m~\\AppData\\Local\\Programs\\Python\\PYTHON~1\\Scripts/ipykernel_11904/1493452720.py\u001b[0m in \u001b[0;36mget_Dunn_index\u001b[1;34m(X, labels, intra_cluster_distance_type, inter_cluster_distance_type)\u001b[0m\n\u001b[0;32m     12\u001b[0m         \u001b[1;34m'avld'\u001b[0m\u001b[1;33m:\u001b[0m \u001b[0maverage_linkage_distance\u001b[0m\u001b[1;33m,\u001b[0m\u001b[1;33m\u001b[0m\u001b[1;33m\u001b[0m\u001b[0m\n\u001b[0;32m     13\u001b[0m         \u001b[1;34m'cent_ld'\u001b[0m \u001b[1;33m:\u001b[0m \u001b[0mcentroid_linkage_distance\u001b[0m\u001b[1;33m,\u001b[0m\u001b[1;33m\u001b[0m\u001b[1;33m\u001b[0m\u001b[0m\n\u001b[1;32m---> 14\u001b[1;33m         \u001b[1;34m'av_cent_ld'\u001b[0m \u001b[1;33m:\u001b[0m \u001b[0maverage_of_centroids_linkage_distance\u001b[0m\u001b[1;33m\u001b[0m\u001b[1;33m\u001b[0m\u001b[0m\n\u001b[0m\u001b[0;32m     15\u001b[0m     }\n\u001b[0;32m     16\u001b[0m     \u001b[1;31m# intra cluster distance\u001b[0m\u001b[1;33m\u001b[0m\u001b[1;33m\u001b[0m\u001b[0m\n",
      "\u001b[1;31mNameError\u001b[0m: name 'average_of_centroids_linkage_distance' is not defined"
     ]
    }
   ],
   "source": [
    "intra_cluster_distance_type = 'cmpl_dd' \n",
    "inter_cluster_distance_type = 'av_cent_ld'\n",
    "get_Dunn_index(DF_org, dbscan_labels0,inter_cluster_distance_type, intra_cluster_distance_type)"
   ]
  },
  {
   "cell_type": "code",
   "execution_count": 27,
   "metadata": {},
   "outputs": [],
   "source": [
    "def visualize_silhouette(eps_lists, X_features): \n",
    "\n",
    "    from sklearn.datasets import make_blobs\n",
    "    from sklearn.cluster import DBSCAN\n",
    "    from sklearn.metrics import silhouette_samples, silhouette_score\n",
    "\n",
    "    import matplotlib.pyplot as plt\n",
    "    import matplotlib.cm as cm\n",
    "    import math\n",
    "\n",
    "    # 입력값으로 eps 갯수들을 리스트로 받아서, 각 eps별로 클러스터링을 적용하고 실루엣 개수를 구함\n",
    "    n_cols = len(minsamples_lists)\n",
    "\n",
    "    # plt.subplots()으로 리스트에 기재된 클러스터링 수만큼의 sub figures를 가지는 axs 생성 \n",
    "    fig, axs = plt.subplots(figsize=(4*n_cols, 4), nrows=1, ncols=n_cols)\n",
    "\n",
    "    # 리스트에 기재된 클러스터링 갯수들을 차례로 iteration 수행하면서 실루엣 개수 시각화\n",
    "    for ind, minsample in enumerate(minsamples_lists):\n",
    "\n",
    "        # KMeans 클러스터링 수행하고, 실루엣 스코어와 개별 데이터의 실루엣 값 계산. \n",
    "        clusterer = DBSCAN(eps = 0.6, min_samples = minsample, metric = \"euclidean\")\n",
    "        cluster_labels = clusterer.fit_predict(X_features)\n",
    "        n_cluster = len(cluster_labels.unique())\n",
    "\n",
    "        sil_avg = silhouette_score(X_features, cluster_labels)\n",
    "        sil_values = silhouette_samples(X_features, cluster_labels)\n",
    "\n",
    "        y_lower = 10\n",
    "        axs[ind].set_title('Number of Cluster : '+ str(n_cluster)+'\\n' \\\n",
    "                          'Silhouette Score :' + str(round(sil_avg,3)) )\n",
    "        axs[ind].set_xlabel(\"The silhouette coefficient values\")\n",
    "        axs[ind].set_ylabel(\"Cluster label\")\n",
    "        axs[ind].set_xlim([-0.1, 1])\n",
    "        axs[ind].set_ylim([0, len(X_features) + (n_cluster + 1) * 10])\n",
    "        axs[ind].set_yticks([])  # Clear the yaxis labels / ticks\n",
    "        axs[ind].set_xticks([0, 0.2, 0.4, 0.6, 0.8, 1])\n",
    "\n",
    "        # 클러스터링 갯수별로 fill_betweenx( )형태의 막대 그래프 표현. \n",
    "        for i in range(n_cluster):\n",
    "            ith_cluster_sil_values = sil_values[cluster_labels==i]\n",
    "            ith_cluster_sil_values.sort()\n",
    "\n",
    "            size_cluster_i = ith_cluster_sil_values.shape[0]\n",
    "            y_upper = y_lower + size_cluster_i\n",
    "\n",
    "            color = cm.nipy_spectral(float(i) / n_cluster)\n",
    "            axs[ind].fill_betweenx(np.arange(y_lower, y_upper), 0, ith_cluster_sil_values, \\\n",
    "                                facecolor=color, edgecolor=color, alpha=0.7)\n",
    "            axs[ind].text(-0.05, y_lower + 0.5 * size_cluster_i, str(i))\n",
    "            y_lower = y_upper + 10\n",
    "\n",
    "        axs[ind].axvline(x=sil_avg, color=\"red\", linestyle=\"--\")"
   ]
  },
  {
   "cell_type": "code",
   "execution_count": null,
   "metadata": {},
   "outputs": [],
   "source": []
  }
 ],
 "metadata": {
  "colab": {
   "name": "summer_project_Clustering.ipynb",
   "provenance": []
  },
  "kernelspec": {
   "display_name": "Python 3 (ipykernel)",
   "language": "python",
   "name": "python3"
  },
  "language_info": {
   "codemirror_mode": {
    "name": "ipython",
    "version": 3
   },
   "file_extension": ".py",
   "mimetype": "text/x-python",
   "name": "python",
   "nbconvert_exporter": "python",
   "pygments_lexer": "ipython3",
   "version": "3.9.7"
  }
 },
 "nbformat": 4,
 "nbformat_minor": 1
}
